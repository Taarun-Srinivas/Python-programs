{
  "nbformat": 4,
  "nbformat_minor": 0,
  "metadata": {
    "colab": {
      "name": "Assignment-1: Python Basics.ipynb",
      "provenance": [],
      "collapsed_sections": []
    },
    "kernelspec": {
      "name": "python3",
      "display_name": "Python 3"
    }
  },
  "cells": [
    {
      "cell_type": "markdown",
      "metadata": {
        "id": "-nFYlpanXsFs",
        "colab_type": "text"
      },
      "source": [
        "#Python Basics"
      ]
    },
    {
      "cell_type": "markdown",
      "metadata": {
        "id": "h0tkql3rXxPo",
        "colab_type": "text"
      },
      "source": [
        "#Data Types\n",
        "#<i> Numbers </i>"
      ]
    },
    {
      "cell_type": "code",
      "metadata": {
        "id": "FSqI1IUgXjkk",
        "colab_type": "code",
        "colab": {
          "base_uri": "https://localhost:8080/",
          "height": 34
        },
        "outputId": "3fb9133a-da9f-40bd-91d8-9b0360017e98"
      },
      "source": [
        "10 + 90"
      ],
      "execution_count": null,
      "outputs": [
        {
          "output_type": "execute_result",
          "data": {
            "text/plain": [
              "100"
            ]
          },
          "metadata": {
            "tags": []
          },
          "execution_count": 1
        }
      ]
    },
    {
      "cell_type": "code",
      "metadata": {
        "id": "1sBzK5zyYDMB",
        "colab_type": "code",
        "colab": {
          "base_uri": "https://localhost:8080/",
          "height": 34
        },
        "outputId": "b19185b1-b425-4107-c4e2-8f9376e3903a"
      },
      "source": [
        "20 - 1"
      ],
      "execution_count": null,
      "outputs": [
        {
          "output_type": "execute_result",
          "data": {
            "text/plain": [
              "19"
            ]
          },
          "metadata": {
            "tags": []
          },
          "execution_count": 2
        }
      ]
    },
    {
      "cell_type": "code",
      "metadata": {
        "id": "nbzl-O_hYIbn",
        "colab_type": "code",
        "colab": {
          "base_uri": "https://localhost:8080/",
          "height": 34
        },
        "outputId": "c588a851-b074-4e81-9651-3085352f1f74"
      },
      "source": [
        "2 * 5"
      ],
      "execution_count": null,
      "outputs": [
        {
          "output_type": "execute_result",
          "data": {
            "text/plain": [
              "10"
            ]
          },
          "metadata": {
            "tags": []
          },
          "execution_count": 3
        }
      ]
    },
    {
      "cell_type": "code",
      "metadata": {
        "id": "zc6pbYJdYKPg",
        "colab_type": "code",
        "colab": {
          "base_uri": "https://localhost:8080/",
          "height": 34
        },
        "outputId": "7df2ae52-bf44-4dc4-8422-9cbb02dcb30a"
      },
      "source": [
        "20 / 10"
      ],
      "execution_count": null,
      "outputs": [
        {
          "output_type": "execute_result",
          "data": {
            "text/plain": [
              "2.0"
            ]
          },
          "metadata": {
            "tags": []
          },
          "execution_count": 4
        }
      ]
    },
    {
      "cell_type": "code",
      "metadata": {
        "id": "N_6XBdKKYMNf",
        "colab_type": "code",
        "colab": {
          "base_uri": "https://localhost:8080/",
          "height": 34
        },
        "outputId": "98123591-9558-480d-d48b-1f220030057c"
      },
      "source": [
        "5 ** 5"
      ],
      "execution_count": null,
      "outputs": [
        {
          "output_type": "execute_result",
          "data": {
            "text/plain": [
              "3125"
            ]
          },
          "metadata": {
            "tags": []
          },
          "execution_count": 5
        }
      ]
    },
    {
      "cell_type": "code",
      "metadata": {
        "id": "tzvQxnp7YPpT",
        "colab_type": "code",
        "colab": {
          "base_uri": "https://localhost:8080/",
          "height": 34
        },
        "outputId": "2440be7c-dfde-4894-978f-8e0129d61138"
      },
      "source": [
        "1000 % 10"
      ],
      "execution_count": null,
      "outputs": [
        {
          "output_type": "execute_result",
          "data": {
            "text/plain": [
              "0"
            ]
          },
          "metadata": {
            "tags": []
          },
          "execution_count": 6
        }
      ]
    },
    {
      "cell_type": "code",
      "metadata": {
        "id": "iSRDLOZQYXpo",
        "colab_type": "code",
        "colab": {
          "base_uri": "https://localhost:8080/",
          "height": 34
        },
        "outputId": "45be59c0-fa3b-4a92-df4b-4fd19571eb02"
      },
      "source": [
        "19 % 5"
      ],
      "execution_count": null,
      "outputs": [
        {
          "output_type": "execute_result",
          "data": {
            "text/plain": [
              "4"
            ]
          },
          "metadata": {
            "tags": []
          },
          "execution_count": 7
        }
      ]
    },
    {
      "cell_type": "code",
      "metadata": {
        "id": "3CbaoFt2YZZl",
        "colab_type": "code",
        "colab": {
          "base_uri": "https://localhost:8080/",
          "height": 34
        },
        "outputId": "5819c41e-54fa-4e7f-a758-e4d62f90ed33"
      },
      "source": [
        "(12 + 19) / (5 - 4)"
      ],
      "execution_count": null,
      "outputs": [
        {
          "output_type": "execute_result",
          "data": {
            "text/plain": [
              "31.0"
            ]
          },
          "metadata": {
            "tags": []
          },
          "execution_count": 8
        }
      ]
    },
    {
      "cell_type": "markdown",
      "metadata": {
        "id": "BtFB0rGOYl19",
        "colab_type": "text"
      },
      "source": [
        "#<i> Variable Assignment </i>"
      ]
    },
    {
      "cell_type": "code",
      "metadata": {
        "id": "6O_TPX4fYjC4",
        "colab_type": "code",
        "colab": {}
      },
      "source": [
        "num_1 = 20\n",
        "num_2 = 30"
      ],
      "execution_count": null,
      "outputs": []
    },
    {
      "cell_type": "code",
      "metadata": {
        "id": "jatxMC5pYzWN",
        "colab_type": "code",
        "colab": {}
      },
      "source": [
        "ans = num_1 * num_2"
      ],
      "execution_count": null,
      "outputs": []
    },
    {
      "cell_type": "code",
      "metadata": {
        "id": "I9pj8_NeY2kA",
        "colab_type": "code",
        "colab": {
          "base_uri": "https://localhost:8080/",
          "height": 34
        },
        "outputId": "72171ef0-0243-4b16-c0a5-d9b21ce8ba39"
      },
      "source": [
        "ans"
      ],
      "execution_count": null,
      "outputs": [
        {
          "output_type": "execute_result",
          "data": {
            "text/plain": [
              "600"
            ]
          },
          "metadata": {
            "tags": []
          },
          "execution_count": 12
        }
      ]
    },
    {
      "cell_type": "markdown",
      "metadata": {
        "id": "r7dTOs1lZABo",
        "colab_type": "text"
      },
      "source": [
        "#<i> Strings </i>"
      ]
    },
    {
      "cell_type": "code",
      "metadata": {
        "id": "-TYd1SxtY6wI",
        "colab_type": "code",
        "colab": {}
      },
      "source": [
        "x = 'This is an example for a string with single quote'\n"
      ],
      "execution_count": null,
      "outputs": []
    },
    {
      "cell_type": "code",
      "metadata": {
        "id": "x86aJTSVZJnP",
        "colab_type": "code",
        "colab": {
          "base_uri": "https://localhost:8080/",
          "height": 34
        },
        "outputId": "3eebc213-50d5-4703-b74f-9f0352627f0c"
      },
      "source": [
        "x"
      ],
      "execution_count": null,
      "outputs": [
        {
          "output_type": "execute_result",
          "data": {
            "text/plain": [
              "'This is an example for a string with single quote'"
            ]
          },
          "metadata": {
            "tags": []
          },
          "execution_count": 14
        }
      ]
    },
    {
      "cell_type": "code",
      "metadata": {
        "id": "yj5V9AoVZKJg",
        "colab_type": "code",
        "colab": {
          "base_uri": "https://localhost:8080/",
          "height": 34
        },
        "outputId": "2a864665-9705-408f-a37a-2b73179bb210"
      },
      "source": [
        "y = \"This is an example for a string with double quote\"\n",
        "y"
      ],
      "execution_count": null,
      "outputs": [
        {
          "output_type": "execute_result",
          "data": {
            "text/plain": [
              "'This is an example for a string with double quote'"
            ]
          },
          "metadata": {
            "tags": []
          },
          "execution_count": 15
        }
      ]
    },
    {
      "cell_type": "code",
      "metadata": {
        "id": "B8Ag1uBEZPmP",
        "colab_type": "code",
        "colab": {
          "base_uri": "https://localhost:8080/",
          "height": 128
        },
        "outputId": "5c1fddd8-2c93-449c-db5d-69b8f4a4aa8d"
      },
      "source": [
        "z = 'String with mismatched quotes will throw a syntax error\""
      ],
      "execution_count": null,
      "outputs": [
        {
          "output_type": "error",
          "ename": "SyntaxError",
          "evalue": "ignored",
          "traceback": [
            "\u001b[0;36m  File \u001b[0;32m\"<ipython-input-16-89c4ed5c7008>\"\u001b[0;36m, line \u001b[0;32m1\u001b[0m\n\u001b[0;31m    z = 'String with mismatched quotes will throw a syntax error\"\u001b[0m\n\u001b[0m                                                                 ^\u001b[0m\n\u001b[0;31mSyntaxError\u001b[0m\u001b[0;31m:\u001b[0m EOL while scanning string literal\n"
          ]
        }
      ]
    },
    {
      "cell_type": "markdown",
      "metadata": {
        "id": "nqPUKCxZZb96",
        "colab_type": "text"
      },
      "source": [
        "#<i> Printing </i>"
      ]
    },
    {
      "cell_type": "code",
      "metadata": {
        "id": "VtV7XComZX2Q",
        "colab_type": "code",
        "colab": {}
      },
      "source": [
        "x = 'I am Taarun'\n"
      ],
      "execution_count": null,
      "outputs": []
    },
    {
      "cell_type": "code",
      "metadata": {
        "id": "XMfFNNRNZqXg",
        "colab_type": "code",
        "colab": {
          "base_uri": "https://localhost:8080/",
          "height": 34
        },
        "outputId": "177c739c-0d26-4220-8501-653b679557b5"
      },
      "source": [
        "x"
      ],
      "execution_count": null,
      "outputs": [
        {
          "output_type": "execute_result",
          "data": {
            "text/plain": [
              "'I am Taarun'"
            ]
          },
          "metadata": {
            "tags": []
          },
          "execution_count": 18
        }
      ]
    },
    {
      "cell_type": "code",
      "metadata": {
        "id": "6Gc5NhJtZq7g",
        "colab_type": "code",
        "colab": {
          "base_uri": "https://localhost:8080/",
          "height": 34
        },
        "outputId": "bcf1a573-00a6-4a7d-e02c-beddd53a646a"
      },
      "source": [
        "print(x)"
      ],
      "execution_count": null,
      "outputs": [
        {
          "output_type": "stream",
          "text": [
            "I am Taarun\n"
          ],
          "name": "stdout"
        }
      ]
    },
    {
      "cell_type": "code",
      "metadata": {
        "id": "IIWkcXO2ZsJP",
        "colab_type": "code",
        "colab": {}
      },
      "source": [
        "name = \"Taarun Srinivas\"\n",
        "domain = \"Machine Learning\""
      ],
      "execution_count": null,
      "outputs": []
    },
    {
      "cell_type": "code",
      "metadata": {
        "id": "ZPqNGoJzZ34Q",
        "colab_type": "code",
        "colab": {
          "base_uri": "https://localhost:8080/",
          "height": 34
        },
        "outputId": "7af84f3e-6763-48a5-ddf9-45c838b594bf"
      },
      "source": [
        "print('My name is {first} and I love {second}'.format(first = name, second = domain))"
      ],
      "execution_count": null,
      "outputs": [
        {
          "output_type": "stream",
          "text": [
            "My name is Taarun Srinivas and I love Machine Learning\n"
          ],
          "name": "stdout"
        }
      ]
    },
    {
      "cell_type": "code",
      "metadata": {
        "id": "RbG9AAgXaR-g",
        "colab_type": "code",
        "colab": {
          "base_uri": "https://localhost:8080/",
          "height": 34
        },
        "outputId": "9d980c7f-4838-46e6-de2d-b84d21aecebc"
      },
      "source": [
        "a = \"learning\"\n",
        "print('Machine {} is intresting'.format(a))"
      ],
      "execution_count": null,
      "outputs": [
        {
          "output_type": "stream",
          "text": [
            "Machine learning is intresting\n"
          ],
          "name": "stdout"
        }
      ]
    },
    {
      "cell_type": "markdown",
      "metadata": {
        "id": "fmfrlSn0avCm",
        "colab_type": "text"
      },
      "source": [
        "#<i> Lists </i>"
      ]
    },
    {
      "cell_type": "code",
      "metadata": {
        "id": "EXa3wkepamSg",
        "colab_type": "code",
        "colab": {
          "base_uri": "https://localhost:8080/",
          "height": 34
        },
        "outputId": "aa8ce11f-4332-4dde-8947-c3d7570a0c20"
      },
      "source": [
        "[12,19,56,90,100]"
      ],
      "execution_count": null,
      "outputs": [
        {
          "output_type": "execute_result",
          "data": {
            "text/plain": [
              "[12, 19, 56, 90, 100]"
            ]
          },
          "metadata": {
            "tags": []
          },
          "execution_count": 25
        }
      ]
    },
    {
      "cell_type": "code",
      "metadata": {
        "id": "DZfw_99ta1WQ",
        "colab_type": "code",
        "colab": {
          "base_uri": "https://localhost:8080/",
          "height": 34
        },
        "outputId": "bc1cfa10-be80-4706-a05e-7d3098591676"
      },
      "source": [
        "x = [\"I\", \"am\", \"Taarun\", \"Srinivas\"]\n",
        "x"
      ],
      "execution_count": null,
      "outputs": [
        {
          "output_type": "execute_result",
          "data": {
            "text/plain": [
              "['I', 'am', 'Taarun', 'Srinivas']"
            ]
          },
          "metadata": {
            "tags": []
          },
          "execution_count": 26
        }
      ]
    },
    {
      "cell_type": "code",
      "metadata": {
        "id": "7zg5J3qLa6ZA",
        "colab_type": "code",
        "colab": {
          "base_uri": "https://localhost:8080/",
          "height": 34
        },
        "outputId": "0023c9ad-7cca-444e-e6a3-59937fd60a4b"
      },
      "source": [
        "print(x)"
      ],
      "execution_count": null,
      "outputs": [
        {
          "output_type": "stream",
          "text": [
            "['I', 'am', 'Taarun', 'Srinivas']\n"
          ],
          "name": "stdout"
        }
      ]
    },
    {
      "cell_type": "code",
      "metadata": {
        "id": "uSEIy1TDa74I",
        "colab_type": "code",
        "colab": {}
      },
      "source": [
        "x.append(\"hello\")"
      ],
      "execution_count": null,
      "outputs": []
    },
    {
      "cell_type": "code",
      "metadata": {
        "id": "t0RWAsBUbDCQ",
        "colab_type": "code",
        "colab": {
          "base_uri": "https://localhost:8080/",
          "height": 34
        },
        "outputId": "4c3e491c-c261-4084-f43f-35a588595af3"
      },
      "source": [
        "x"
      ],
      "execution_count": null,
      "outputs": [
        {
          "output_type": "execute_result",
          "data": {
            "text/plain": [
              "['I', 'am', 'Taarun', 'Srinivas', 'hello']"
            ]
          },
          "metadata": {
            "tags": []
          },
          "execution_count": 29
        }
      ]
    },
    {
      "cell_type": "code",
      "metadata": {
        "id": "8pGAR5aQbDwI",
        "colab_type": "code",
        "colab": {
          "base_uri": "https://localhost:8080/",
          "height": 34
        },
        "outputId": "0f8424e1-4f02-429a-d9c1-f20dcca3a6ec"
      },
      "source": [
        "x.pop()"
      ],
      "execution_count": null,
      "outputs": [
        {
          "output_type": "execute_result",
          "data": {
            "text/plain": [
              "'hello'"
            ]
          },
          "metadata": {
            "tags": []
          },
          "execution_count": 30
        }
      ]
    },
    {
      "cell_type": "code",
      "metadata": {
        "id": "96MxMReIbHNZ",
        "colab_type": "code",
        "colab": {
          "base_uri": "https://localhost:8080/",
          "height": 34
        },
        "outputId": "6b860afc-7acb-4255-e7e0-1746e5b60f58"
      },
      "source": [
        "x[0]"
      ],
      "execution_count": null,
      "outputs": [
        {
          "output_type": "execute_result",
          "data": {
            "text/plain": [
              "'I'"
            ]
          },
          "metadata": {
            "tags": []
          },
          "execution_count": 34
        }
      ]
    },
    {
      "cell_type": "code",
      "metadata": {
        "id": "gFUCPIRBbJSw",
        "colab_type": "code",
        "colab": {
          "base_uri": "https://localhost:8080/",
          "height": 34
        },
        "outputId": "a9dca351-d11f-4342-88a6-c5c91d2d3fdb"
      },
      "source": [
        "x[:2]\n"
      ],
      "execution_count": null,
      "outputs": [
        {
          "output_type": "execute_result",
          "data": {
            "text/plain": [
              "['I', 'am']"
            ]
          },
          "metadata": {
            "tags": []
          },
          "execution_count": 35
        }
      ]
    },
    {
      "cell_type": "code",
      "metadata": {
        "id": "iJJ1zVypbjR6",
        "colab_type": "code",
        "colab": {
          "base_uri": "https://localhost:8080/",
          "height": 34
        },
        "outputId": "50a38890-11a0-4db5-b65b-4158b04be069"
      },
      "source": [
        "x[1:]"
      ],
      "execution_count": null,
      "outputs": [
        {
          "output_type": "execute_result",
          "data": {
            "text/plain": [
              "['am', 'Taarun', 'Srinivas']"
            ]
          },
          "metadata": {
            "tags": []
          },
          "execution_count": 36
        }
      ]
    },
    {
      "cell_type": "code",
      "metadata": {
        "id": "8M0tjG9AblKP",
        "colab_type": "code",
        "colab": {}
      },
      "source": [
        "x[0] = \"Hello\"\n"
      ],
      "execution_count": null,
      "outputs": []
    },
    {
      "cell_type": "code",
      "metadata": {
        "id": "4p3cU68HbvIQ",
        "colab_type": "code",
        "colab": {
          "base_uri": "https://localhost:8080/",
          "height": 34
        },
        "outputId": "891d5e86-3b71-4b00-ce70-f6e51e08b96d"
      },
      "source": [
        "x"
      ],
      "execution_count": null,
      "outputs": [
        {
          "output_type": "execute_result",
          "data": {
            "text/plain": [
              "['Hello', 'am', 'Taarun', 'Srinivas']"
            ]
          },
          "metadata": {
            "tags": []
          },
          "execution_count": 38
        }
      ]
    },
    {
      "cell_type": "code",
      "metadata": {
        "id": "8fQGlNtYbv1x",
        "colab_type": "code",
        "colab": {}
      },
      "source": [
        "nl = [1, 5, 15, [\"hello\", \"World\", [25,30, [\"Machine\", \"Learning\"]]]]"
      ],
      "execution_count": null,
      "outputs": []
    },
    {
      "cell_type": "code",
      "metadata": {
        "id": "U8H9IJMQXh4B",
        "colab_type": "code",
        "colab": {
          "base_uri": "https://localhost:8080/",
          "height": 34
        },
        "outputId": "71100361-2b0d-4403-9574-faf529d04eae"
      },
      "source": [
        "nl[3][2][2]"
      ],
      "execution_count": null,
      "outputs": [
        {
          "output_type": "execute_result",
          "data": {
            "text/plain": [
              "['Machine', 'Learning']"
            ]
          },
          "metadata": {
            "tags": []
          },
          "execution_count": 2
        }
      ]
    },
    {
      "cell_type": "markdown",
      "metadata": {
        "id": "hcBdtaKLYG7M",
        "colab_type": "text"
      },
      "source": [
        "#<i> Dictionary </i>"
      ]
    },
    {
      "cell_type": "code",
      "metadata": {
        "id": "flbNqLolXuTJ",
        "colab_type": "code",
        "colab": {}
      },
      "source": [
        "a = {'name':'parkourg','place':'chennai'}"
      ],
      "execution_count": null,
      "outputs": []
    },
    {
      "cell_type": "code",
      "metadata": {
        "id": "w8EHHeIbX-7y",
        "colab_type": "code",
        "colab": {
          "base_uri": "https://localhost:8080/",
          "height": 34
        },
        "outputId": "6b68c740-7665-4ff1-e273-8a7de9fcea57"
      },
      "source": [
        "a"
      ],
      "execution_count": null,
      "outputs": [
        {
          "output_type": "execute_result",
          "data": {
            "text/plain": [
              "{'name': 'parkourg', 'place': 'chennai'}"
            ]
          },
          "metadata": {
            "tags": []
          },
          "execution_count": 4
        }
      ]
    },
    {
      "cell_type": "code",
      "metadata": {
        "id": "ZhtiJveVX_wK",
        "colab_type": "code",
        "colab": {
          "base_uri": "https://localhost:8080/",
          "height": 34
        },
        "outputId": "3f995d57-7fd6-494f-c0e8-6abbf19d666e"
      },
      "source": [
        "a['name']"
      ],
      "execution_count": null,
      "outputs": [
        {
          "output_type": "execute_result",
          "data": {
            "text/plain": [
              "'parkourg'"
            ]
          },
          "metadata": {
            "tags": []
          },
          "execution_count": 5
        }
      ]
    },
    {
      "cell_type": "code",
      "metadata": {
        "id": "LwFs-MyhYD7i",
        "colab_type": "code",
        "colab": {
          "base_uri": "https://localhost:8080/",
          "height": 34
        },
        "outputId": "9713aeb5-dfa0-468d-9890-d1fe9795780c"
      },
      "source": [
        "a['place']"
      ],
      "execution_count": null,
      "outputs": [
        {
          "output_type": "execute_result",
          "data": {
            "text/plain": [
              "'chennai'"
            ]
          },
          "metadata": {
            "tags": []
          },
          "execution_count": 6
        }
      ]
    },
    {
      "cell_type": "markdown",
      "metadata": {
        "id": "2-BpCdlAYO-F",
        "colab_type": "text"
      },
      "source": [
        "#<i> Boolean </i>"
      ]
    },
    {
      "cell_type": "code",
      "metadata": {
        "id": "9AU8ULKeYFm6",
        "colab_type": "code",
        "colab": {
          "base_uri": "https://localhost:8080/",
          "height": 34
        },
        "outputId": "79cdcfb3-658d-433f-9b94-d53e5614eaa7"
      },
      "source": [
        "True"
      ],
      "execution_count": null,
      "outputs": [
        {
          "output_type": "execute_result",
          "data": {
            "text/plain": [
              "True"
            ]
          },
          "metadata": {
            "tags": []
          },
          "execution_count": 7
        }
      ]
    },
    {
      "cell_type": "code",
      "metadata": {
        "id": "AqhHQaZ-YSvS",
        "colab_type": "code",
        "colab": {
          "base_uri": "https://localhost:8080/",
          "height": 34
        },
        "outputId": "dec41f91-c0cc-4e57-ec2e-f13990961db3"
      },
      "source": [
        "False"
      ],
      "execution_count": null,
      "outputs": [
        {
          "output_type": "execute_result",
          "data": {
            "text/plain": [
              "False"
            ]
          },
          "metadata": {
            "tags": []
          },
          "execution_count": 8
        }
      ]
    },
    {
      "cell_type": "markdown",
      "metadata": {
        "id": "nvZrIQzfYVw3",
        "colab_type": "text"
      },
      "source": [
        "#<i> Tuples </i>"
      ]
    },
    {
      "cell_type": "code",
      "metadata": {
        "id": "ZLbpnZbsYT57",
        "colab_type": "code",
        "colab": {}
      },
      "source": [
        "tup = (1,2,3,4,5,6,7,8,9,10)"
      ],
      "execution_count": null,
      "outputs": []
    },
    {
      "cell_type": "code",
      "metadata": {
        "id": "2YpPhse5YeSD",
        "colab_type": "code",
        "colab": {
          "base_uri": "https://localhost:8080/",
          "height": 34
        },
        "outputId": "1d4263cc-da16-4a55-f5eb-5593945b6d99"
      },
      "source": [
        "tup"
      ],
      "execution_count": null,
      "outputs": [
        {
          "output_type": "execute_result",
          "data": {
            "text/plain": [
              "(1, 2, 3, 4, 5, 6, 7, 8, 9, 10)"
            ]
          },
          "metadata": {
            "tags": []
          },
          "execution_count": 10
        }
      ]
    },
    {
      "cell_type": "code",
      "metadata": {
        "id": "JvXZ_uUAYfJi",
        "colab_type": "code",
        "colab": {
          "base_uri": "https://localhost:8080/",
          "height": 34
        },
        "outputId": "559b03c5-714b-425d-d158-8a41d7ba3e82"
      },
      "source": [
        "tup[0]"
      ],
      "execution_count": null,
      "outputs": [
        {
          "output_type": "execute_result",
          "data": {
            "text/plain": [
              "1"
            ]
          },
          "metadata": {
            "tags": []
          },
          "execution_count": 13
        }
      ]
    },
    {
      "cell_type": "code",
      "metadata": {
        "id": "illTo8JvYhLr",
        "colab_type": "code",
        "colab": {
          "base_uri": "https://localhost:8080/",
          "height": 34
        },
        "outputId": "6c767d7c-1941-49d3-a273-ee51d364f32e"
      },
      "source": [
        "tup[3]"
      ],
      "execution_count": null,
      "outputs": [
        {
          "output_type": "execute_result",
          "data": {
            "text/plain": [
              "4"
            ]
          },
          "metadata": {
            "tags": []
          },
          "execution_count": 12
        }
      ]
    },
    {
      "cell_type": "code",
      "metadata": {
        "id": "3QLLcantYk6x",
        "colab_type": "code",
        "colab": {
          "base_uri": "https://localhost:8080/",
          "height": 162
        },
        "outputId": "dae13e4f-2683-433a-f5a4-e230e82e68ba"
      },
      "source": [
        "tup[5] = 25"
      ],
      "execution_count": null,
      "outputs": [
        {
          "output_type": "error",
          "ename": "TypeError",
          "evalue": "ignored",
          "traceback": [
            "\u001b[0;31m---------------------------------------------------------------------------\u001b[0m",
            "\u001b[0;31mTypeError\u001b[0m                                 Traceback (most recent call last)",
            "\u001b[0;32m<ipython-input-14-e902b940bb38>\u001b[0m in \u001b[0;36m<module>\u001b[0;34m()\u001b[0m\n\u001b[0;32m----> 1\u001b[0;31m \u001b[0mtup\u001b[0m\u001b[0;34m[\u001b[0m\u001b[0;36m5\u001b[0m\u001b[0;34m]\u001b[0m \u001b[0;34m=\u001b[0m \u001b[0;36m25\u001b[0m\u001b[0;34m\u001b[0m\u001b[0;34m\u001b[0m\u001b[0m\n\u001b[0m",
            "\u001b[0;31mTypeError\u001b[0m: 'tuple' object does not support item assignment"
          ]
        }
      ]
    },
    {
      "cell_type": "markdown",
      "metadata": {
        "id": "xWgZTSjyY1lo",
        "colab_type": "text"
      },
      "source": [
        "#<i> Sets </i>"
      ]
    },
    {
      "cell_type": "code",
      "metadata": {
        "id": "9SbxhEYVYrlR",
        "colab_type": "code",
        "colab": {}
      },
      "source": [
        "a = {10,20,30,40,50,60,70,80}"
      ],
      "execution_count": null,
      "outputs": []
    },
    {
      "cell_type": "code",
      "metadata": {
        "id": "YQrpqcvZY-XD",
        "colab_type": "code",
        "colab": {
          "base_uri": "https://localhost:8080/",
          "height": 34
        },
        "outputId": "a67925ac-21c0-41fc-a8b0-dc2de958de5c"
      },
      "source": [
        "a"
      ],
      "execution_count": null,
      "outputs": [
        {
          "output_type": "execute_result",
          "data": {
            "text/plain": [
              "{10, 20, 30, 40, 50, 60, 70, 80}"
            ]
          },
          "metadata": {
            "tags": []
          },
          "execution_count": 16
        }
      ]
    },
    {
      "cell_type": "code",
      "metadata": {
        "id": "0h8flIcZY_E9",
        "colab_type": "code",
        "colab": {}
      },
      "source": [
        "b = {10,12,23,12,34,23,56,65,45,56,65,100}"
      ],
      "execution_count": null,
      "outputs": []
    },
    {
      "cell_type": "code",
      "metadata": {
        "id": "qv8k-5i0ZH-a",
        "colab_type": "code",
        "colab": {
          "base_uri": "https://localhost:8080/",
          "height": 34
        },
        "outputId": "3e397add-7ab7-4de7-c99c-6f2ec2a477c5"
      },
      "source": [
        "b"
      ],
      "execution_count": null,
      "outputs": [
        {
          "output_type": "execute_result",
          "data": {
            "text/plain": [
              "{10, 12, 23, 34, 45, 56, 65, 100}"
            ]
          },
          "metadata": {
            "tags": []
          },
          "execution_count": 18
        }
      ]
    },
    {
      "cell_type": "markdown",
      "metadata": {
        "id": "aaWyTkERZMNN",
        "colab_type": "text"
      },
      "source": [
        "#<i> Comparison Operator </i>"
      ]
    },
    {
      "cell_type": "code",
      "metadata": {
        "id": "b6RNIQNgZRfh",
        "colab_type": "code",
        "colab": {
          "base_uri": "https://localhost:8080/",
          "height": 34
        },
        "outputId": "814cbbe0-e267-48eb-d4ba-a7af4744e600"
      },
      "source": [
        "10 > 20"
      ],
      "execution_count": null,
      "outputs": [
        {
          "output_type": "execute_result",
          "data": {
            "text/plain": [
              "False"
            ]
          },
          "metadata": {
            "tags": []
          },
          "execution_count": 19
        }
      ]
    },
    {
      "cell_type": "code",
      "metadata": {
        "id": "Q9DitOmwZWeC",
        "colab_type": "code",
        "colab": {
          "base_uri": "https://localhost:8080/",
          "height": 34
        },
        "outputId": "973c9beb-69d1-444c-be16-33cd04b06f38"
      },
      "source": [
        "1< 19"
      ],
      "execution_count": null,
      "outputs": [
        {
          "output_type": "execute_result",
          "data": {
            "text/plain": [
              "True"
            ]
          },
          "metadata": {
            "tags": []
          },
          "execution_count": 20
        }
      ]
    },
    {
      "cell_type": "code",
      "metadata": {
        "id": "fZ0vju-2ZYrb",
        "colab_type": "code",
        "colab": {
          "base_uri": "https://localhost:8080/",
          "height": 34
        },
        "outputId": "6ec49ffa-3cbc-424f-c380-3a598cf679d4"
      },
      "source": [
        "12 >= 19"
      ],
      "execution_count": null,
      "outputs": [
        {
          "output_type": "execute_result",
          "data": {
            "text/plain": [
              "False"
            ]
          },
          "metadata": {
            "tags": []
          },
          "execution_count": 21
        }
      ]
    },
    {
      "cell_type": "code",
      "metadata": {
        "id": "TH-AWas_ZcSX",
        "colab_type": "code",
        "colab": {
          "base_uri": "https://localhost:8080/",
          "height": 34
        },
        "outputId": "7dd38a2e-4fad-48b2-e521-00a804ef853f"
      },
      "source": [
        "12<= 19"
      ],
      "execution_count": null,
      "outputs": [
        {
          "output_type": "execute_result",
          "data": {
            "text/plain": [
              "True"
            ]
          },
          "metadata": {
            "tags": []
          },
          "execution_count": 22
        }
      ]
    },
    {
      "cell_type": "code",
      "metadata": {
        "id": "-PFUqrreZduL",
        "colab_type": "code",
        "colab": {
          "base_uri": "https://localhost:8080/",
          "height": 34
        },
        "outputId": "66a97226-0e85-42e9-e007-dfa856f688ee"
      },
      "source": [
        "10 == 10"
      ],
      "execution_count": null,
      "outputs": [
        {
          "output_type": "execute_result",
          "data": {
            "text/plain": [
              "True"
            ]
          },
          "metadata": {
            "tags": []
          },
          "execution_count": 25
        }
      ]
    },
    {
      "cell_type": "code",
      "metadata": {
        "id": "YfK9XMNMZfmy",
        "colab_type": "code",
        "colab": {
          "base_uri": "https://localhost:8080/",
          "height": 34
        },
        "outputId": "0c045aa0-cab2-4bac-866e-8a559dfada48"
      },
      "source": [
        "\"Machine\" == \"Learning\""
      ],
      "execution_count": null,
      "outputs": [
        {
          "output_type": "execute_result",
          "data": {
            "text/plain": [
              "False"
            ]
          },
          "metadata": {
            "tags": []
          },
          "execution_count": 27
        }
      ]
    },
    {
      "cell_type": "code",
      "metadata": {
        "id": "EtoEyYaDZvd3",
        "colab_type": "code",
        "colab": {
          "base_uri": "https://localhost:8080/",
          "height": 34
        },
        "outputId": "f41d7922-656e-4e10-8db0-966b964f1fb4"
      },
      "source": [
        "\"Hello\" == \"Hello\""
      ],
      "execution_count": null,
      "outputs": [
        {
          "output_type": "execute_result",
          "data": {
            "text/plain": [
              "True"
            ]
          },
          "metadata": {
            "tags": []
          },
          "execution_count": 28
        }
      ]
    },
    {
      "cell_type": "markdown",
      "metadata": {
        "id": "Vr_lc2nYZyeP",
        "colab_type": "text"
      },
      "source": [
        "#<i> Logical Operators </i>"
      ]
    },
    {
      "cell_type": "code",
      "metadata": {
        "id": "e1157oBGZ3IS",
        "colab_type": "code",
        "colab": {
          "base_uri": "https://localhost:8080/",
          "height": 34
        },
        "outputId": "a7b130cc-94e4-4eac-a05f-9174aa85cede"
      },
      "source": [
        "(1<2) and (2 > -1)"
      ],
      "execution_count": null,
      "outputs": [
        {
          "output_type": "execute_result",
          "data": {
            "text/plain": [
              "True"
            ]
          },
          "metadata": {
            "tags": []
          },
          "execution_count": 29
        }
      ]
    },
    {
      "cell_type": "code",
      "metadata": {
        "id": "fnY2gS7jZ7X1",
        "colab_type": "code",
        "colab": {
          "base_uri": "https://localhost:8080/",
          "height": 34
        },
        "outputId": "c86e0f99-58b4-43a2-bbed-c472583c9e96"
      },
      "source": [
        "(10<20) or (1>23)"
      ],
      "execution_count": null,
      "outputs": [
        {
          "output_type": "execute_result",
          "data": {
            "text/plain": [
              "True"
            ]
          },
          "metadata": {
            "tags": []
          },
          "execution_count": 30
        }
      ]
    },
    {
      "cell_type": "code",
      "metadata": {
        "id": "fPVY66XyaA5C",
        "colab_type": "code",
        "colab": {
          "base_uri": "https://localhost:8080/",
          "height": 34
        },
        "outputId": "6485c0a3-e2c1-4733-8f87-2d0acf639c1e"
      },
      "source": [
        "(1!= 2 ) or ( 1 == 2) or (5 == 5)"
      ],
      "execution_count": null,
      "outputs": [
        {
          "output_type": "execute_result",
          "data": {
            "text/plain": [
              "True"
            ]
          },
          "metadata": {
            "tags": []
          },
          "execution_count": 31
        }
      ]
    },
    {
      "cell_type": "markdown",
      "metadata": {
        "id": "o1LpiRl2aYnF",
        "colab_type": "text"
      },
      "source": [
        "#<i> If, Elif, Else Statements </i>"
      ]
    },
    {
      "cell_type": "code",
      "metadata": {
        "id": "vFwA-YquaeCq",
        "colab_type": "code",
        "colab": {
          "base_uri": "https://localhost:8080/",
          "height": 34
        },
        "outputId": "edda268b-1c07-42f4-ed10-25a89ab01e32"
      },
      "source": [
        "if 19 == 19:\n",
        "  print(\"Hello\")"
      ],
      "execution_count": null,
      "outputs": [
        {
          "output_type": "stream",
          "text": [
            "Hello\n"
          ],
          "name": "stdout"
        }
      ]
    },
    {
      "cell_type": "code",
      "metadata": {
        "id": "gLvXUBbNalhS",
        "colab_type": "code",
        "colab": {
          "base_uri": "https://localhost:8080/",
          "height": 34
        },
        "outputId": "bcf33f70-0e12-4d51-d8e0-562cd2c9caab"
      },
      "source": [
        "if 1 < 0:\n",
        "  print(\"AI\")\n",
        "else:\n",
        "  print(\"ML\")"
      ],
      "execution_count": null,
      "outputs": [
        {
          "output_type": "stream",
          "text": [
            "ML\n"
          ],
          "name": "stdout"
        }
      ]
    },
    {
      "cell_type": "code",
      "metadata": {
        "id": "abUco1bmazPq",
        "colab_type": "code",
        "colab": {
          "base_uri": "https://localhost:8080/",
          "height": 34
        },
        "outputId": "9c2e0dc8-731e-47e0-a3b3-000e922fc0d7"
      },
      "source": [
        "if \"Hello\" == \"hello\":\n",
        "  print(\"First statement got executed\")\n",
        "elif \"Hello\" == \"Hello\":\n",
        "  print(\"Second statement got executed\")\n",
        "else:\n",
        "  print(\"Final statement got executed\")"
      ],
      "execution_count": null,
      "outputs": [
        {
          "output_type": "stream",
          "text": [
            "Second statement got executed\n"
          ],
          "name": "stdout"
        }
      ]
    },
    {
      "cell_type": "markdown",
      "metadata": {
        "id": "4tehGW6JbQE-",
        "colab_type": "text"
      },
      "source": [
        "#<i> For Loops </i>"
      ]
    },
    {
      "cell_type": "code",
      "metadata": {
        "id": "448QvniFbL2r",
        "colab_type": "code",
        "colab": {}
      },
      "source": [
        "tup = (1,2,3,10,20,30,5,4,3,2,1,1)"
      ],
      "execution_count": null,
      "outputs": []
    },
    {
      "cell_type": "code",
      "metadata": {
        "id": "PhCkGPRCbqfC",
        "colab_type": "code",
        "colab": {
          "base_uri": "https://localhost:8080/",
          "height": 218
        },
        "outputId": "a39086f7-1019-4ea2-c162-83def60faf79"
      },
      "source": [
        "for i in tup:\n",
        "  print(i)"
      ],
      "execution_count": null,
      "outputs": [
        {
          "output_type": "stream",
          "text": [
            "1\n",
            "2\n",
            "3\n",
            "10\n",
            "20\n",
            "30\n",
            "5\n",
            "4\n",
            "3\n",
            "2\n",
            "1\n",
            "1\n"
          ],
          "name": "stdout"
        }
      ]
    },
    {
      "cell_type": "code",
      "metadata": {
        "id": "lvBwaSAPbtdS",
        "colab_type": "code",
        "colab": {
          "base_uri": "https://localhost:8080/",
          "height": 218
        },
        "outputId": "d3b298a1-e933-4d0c-da7d-c94a9b87981f"
      },
      "source": [
        "for j in tup:\n",
        "  print(\"machine learning\")"
      ],
      "execution_count": null,
      "outputs": [
        {
          "output_type": "stream",
          "text": [
            "machine learning\n",
            "machine learning\n",
            "machine learning\n",
            "machine learning\n",
            "machine learning\n",
            "machine learning\n",
            "machine learning\n",
            "machine learning\n",
            "machine learning\n",
            "machine learning\n",
            "machine learning\n",
            "machine learning\n"
          ],
          "name": "stdout"
        }
      ]
    },
    {
      "cell_type": "code",
      "metadata": {
        "id": "6ldnZhRSb1yS",
        "colab_type": "code",
        "colab": {
          "base_uri": "https://localhost:8080/",
          "height": 218
        },
        "outputId": "6b6838fb-d6f8-4fb8-81a5-4f7c8504f9fa"
      },
      "source": [
        "for a in tup:\n",
        "  print(a**2)"
      ],
      "execution_count": null,
      "outputs": [
        {
          "output_type": "stream",
          "text": [
            "1\n",
            "4\n",
            "9\n",
            "100\n",
            "400\n",
            "900\n",
            "25\n",
            "16\n",
            "9\n",
            "4\n",
            "1\n",
            "1\n"
          ],
          "name": "stdout"
        }
      ]
    },
    {
      "cell_type": "markdown",
      "metadata": {
        "id": "4O6rddwdb_FZ",
        "colab_type": "text"
      },
      "source": [
        "#<i> While Loops </i>"
      ]
    },
    {
      "cell_type": "code",
      "metadata": {
        "id": "dPf1zoNKb6hR",
        "colab_type": "code",
        "colab": {
          "base_uri": "https://localhost:8080/",
          "height": 370
        },
        "outputId": "24f3852b-c803-40b6-f049-b9949e4fdd80"
      },
      "source": [
        "a = 20\n",
        "while a >= 0:\n",
        "  print(\" The updated value of a is {}\".format(a))\n",
        "  a-=1"
      ],
      "execution_count": null,
      "outputs": [
        {
          "output_type": "stream",
          "text": [
            " The updated value of a is 20\n",
            " The updated value of a is 19\n",
            " The updated value of a is 18\n",
            " The updated value of a is 17\n",
            " The updated value of a is 16\n",
            " The updated value of a is 15\n",
            " The updated value of a is 14\n",
            " The updated value of a is 13\n",
            " The updated value of a is 12\n",
            " The updated value of a is 11\n",
            " The updated value of a is 10\n",
            " The updated value of a is 9\n",
            " The updated value of a is 8\n",
            " The updated value of a is 7\n",
            " The updated value of a is 6\n",
            " The updated value of a is 5\n",
            " The updated value of a is 4\n",
            " The updated value of a is 3\n",
            " The updated value of a is 2\n",
            " The updated value of a is 1\n",
            " The updated value of a is 0\n"
          ],
          "name": "stdout"
        }
      ]
    },
    {
      "cell_type": "markdown",
      "metadata": {
        "id": "PchhFKjbcbH2",
        "colab_type": "text"
      },
      "source": [
        "#<i> Range </i>"
      ]
    },
    {
      "cell_type": "code",
      "metadata": {
        "id": "rFIMcrbxcTHr",
        "colab_type": "code",
        "colab": {
          "base_uri": "https://localhost:8080/",
          "height": 34
        },
        "outputId": "8c31bb22-b43f-4c32-e6eb-f1262fb1f98a"
      },
      "source": [
        "range(0,25)"
      ],
      "execution_count": null,
      "outputs": [
        {
          "output_type": "execute_result",
          "data": {
            "text/plain": [
              "range(0, 25)"
            ]
          },
          "metadata": {
            "tags": []
          },
          "execution_count": 42
        }
      ]
    },
    {
      "cell_type": "code",
      "metadata": {
        "id": "5dkSLxp6cklS",
        "colab_type": "code",
        "colab": {
          "base_uri": "https://localhost:8080/",
          "height": 857
        },
        "outputId": "f9989c4d-f399-4375-d4a9-8fc6f6735c10"
      },
      "source": [
        "for a in range (5,55):\n",
        "  print(a+1)"
      ],
      "execution_count": null,
      "outputs": [
        {
          "output_type": "stream",
          "text": [
            "6\n",
            "7\n",
            "8\n",
            "9\n",
            "10\n",
            "11\n",
            "12\n",
            "13\n",
            "14\n",
            "15\n",
            "16\n",
            "17\n",
            "18\n",
            "19\n",
            "20\n",
            "21\n",
            "22\n",
            "23\n",
            "24\n",
            "25\n",
            "26\n",
            "27\n",
            "28\n",
            "29\n",
            "30\n",
            "31\n",
            "32\n",
            "33\n",
            "34\n",
            "35\n",
            "36\n",
            "37\n",
            "38\n",
            "39\n",
            "40\n",
            "41\n",
            "42\n",
            "43\n",
            "44\n",
            "45\n",
            "46\n",
            "47\n",
            "48\n",
            "49\n",
            "50\n",
            "51\n",
            "52\n",
            "53\n",
            "54\n",
            "55\n"
          ],
          "name": "stdout"
        }
      ]
    },
    {
      "cell_type": "code",
      "metadata": {
        "id": "wAILK5lrcpKS",
        "colab_type": "code",
        "colab": {
          "base_uri": "https://localhost:8080/",
          "height": 353
        },
        "outputId": "095cc6e9-93db-4946-f3f9-f0b331957dd8"
      },
      "source": [
        "tuple(range(10,30))"
      ],
      "execution_count": null,
      "outputs": [
        {
          "output_type": "execute_result",
          "data": {
            "text/plain": [
              "(10,\n",
              " 11,\n",
              " 12,\n",
              " 13,\n",
              " 14,\n",
              " 15,\n",
              " 16,\n",
              " 17,\n",
              " 18,\n",
              " 19,\n",
              " 20,\n",
              " 21,\n",
              " 22,\n",
              " 23,\n",
              " 24,\n",
              " 25,\n",
              " 26,\n",
              " 27,\n",
              " 28,\n",
              " 29)"
            ]
          },
          "metadata": {
            "tags": []
          },
          "execution_count": 44
        }
      ]
    },
    {
      "cell_type": "markdown",
      "metadata": {
        "id": "tsO5U7H_cyyg",
        "colab_type": "text"
      },
      "source": [
        "#<i> Advanced Concepts in Lists </i>"
      ]
    },
    {
      "cell_type": "code",
      "metadata": {
        "id": "S6n_GNt8cwka",
        "colab_type": "code",
        "colab": {}
      },
      "source": [
        "a = [1,3,5,7,9,11,13,15]"
      ],
      "execution_count": null,
      "outputs": []
    },
    {
      "cell_type": "code",
      "metadata": {
        "id": "lvDkLzi4dAxF",
        "colab_type": "code",
        "colab": {
          "base_uri": "https://localhost:8080/",
          "height": 34
        },
        "outputId": "c872a8c6-a085-4b0c-f3dd-8a66228a17e4"
      },
      "source": [
        "mat = []\n",
        "for value in a:\n",
        "  mat.append(value*2)\n",
        "print(mat)"
      ],
      "execution_count": null,
      "outputs": [
        {
          "output_type": "stream",
          "text": [
            "[2, 6, 10, 14, 18, 22, 26, 30]\n"
          ],
          "name": "stdout"
        }
      ]
    },
    {
      "cell_type": "code",
      "metadata": {
        "id": "Gg0_DsD3dQoK",
        "colab_type": "code",
        "colab": {
          "base_uri": "https://localhost:8080/",
          "height": 34
        },
        "outputId": "67109669-558c-4061-a68d-9a384fb7e373"
      },
      "source": [
        "b = [2,4,6,8,10]\n",
        "\n",
        "[item**3 for item in b]"
      ],
      "execution_count": null,
      "outputs": [
        {
          "output_type": "execute_result",
          "data": {
            "text/plain": [
              "[8, 64, 216, 512, 1000]"
            ]
          },
          "metadata": {
            "tags": []
          },
          "execution_count": 50
        }
      ]
    },
    {
      "cell_type": "code",
      "metadata": {
        "id": "CPujrAendyPy",
        "colab_type": "code",
        "colab": {}
      },
      "source": [
        "cars =('BMW','Audi','Rolls Royce')\n",
        "bikes = ('Royal Enfield', 'Ducati', 'Pulsar')\n",
        "\n",
        "tup = zip(cars,bikes)"
      ],
      "execution_count": null,
      "outputs": []
    },
    {
      "cell_type": "code",
      "metadata": {
        "id": "9fpLhiLYeHui",
        "colab_type": "code",
        "colab": {
          "base_uri": "https://localhost:8080/",
          "height": 34
        },
        "outputId": "3f4edf92-9cde-48b8-8306-8c59abb9fb13"
      },
      "source": [
        "print(tuple(tup))"
      ],
      "execution_count": null,
      "outputs": [
        {
          "output_type": "stream",
          "text": [
            "(('BMW', 'Royal Enfield'), ('Audi', 'Ducati'), ('Rolls Royce', 'Pulsar'))\n"
          ],
          "name": "stdout"
        }
      ]
    },
    {
      "cell_type": "code",
      "metadata": {
        "id": "Bo1c0GvWePKL",
        "colab_type": "code",
        "colab": {
          "base_uri": "https://localhost:8080/",
          "height": 67
        },
        "outputId": "7d9d7cea-3b1a-4c77-f39b-de51a6819b15"
      },
      "source": [
        "names = ['Taarun', 'Srinivas','John']\n",
        "marks = [100,99,98]\n",
        "\n",
        "for a,b in zip(names,marks):\n",
        "  print(\"{} scored {}\".format(a,b))"
      ],
      "execution_count": null,
      "outputs": [
        {
          "output_type": "stream",
          "text": [
            "Taarun scored 100\n",
            "Srinivas scored 99\n",
            "John scored 98\n"
          ],
          "name": "stdout"
        }
      ]
    },
    {
      "cell_type": "markdown",
      "metadata": {
        "id": "YueRCkuee3tT",
        "colab_type": "text"
      },
      "source": [
        "#<i> Functions </i> "
      ]
    },
    {
      "cell_type": "code",
      "metadata": {
        "id": "QRj_lMiwe9ir",
        "colab_type": "code",
        "colab": {}
      },
      "source": [
        "def FunctionExample(a = \"hello\"):\n",
        "  print(a)"
      ],
      "execution_count": null,
      "outputs": []
    },
    {
      "cell_type": "code",
      "metadata": {
        "id": "WNzFKEH5fP1K",
        "colab_type": "code",
        "colab": {
          "base_uri": "https://localhost:8080/",
          "height": 34
        },
        "outputId": "23d51094-da37-45de-f956-f1c26e7eabff"
      },
      "source": [
        "FunctionExample()"
      ],
      "execution_count": null,
      "outputs": [
        {
          "output_type": "stream",
          "text": [
            "hello\n"
          ],
          "name": "stdout"
        }
      ]
    },
    {
      "cell_type": "code",
      "metadata": {
        "id": "aiJknk1FfU8z",
        "colab_type": "code",
        "colab": {
          "base_uri": "https://localhost:8080/",
          "height": 34
        },
        "outputId": "5d18d806-66f9-4496-e3e0-a03e1e7cc88d"
      },
      "source": [
        "FunctionExample('Machine')"
      ],
      "execution_count": null,
      "outputs": [
        {
          "output_type": "stream",
          "text": [
            "Machine\n"
          ],
          "name": "stdout"
        }
      ]
    },
    {
      "cell_type": "code",
      "metadata": {
        "id": "q6v_OGq1fZ_R",
        "colab_type": "code",
        "colab": {
          "base_uri": "https://localhost:8080/",
          "height": 34
        },
        "outputId": "0b4e8704-4d74-44d7-c0a4-e1bc106cf959"
      },
      "source": [
        "FunctionExample(\"Learning\")"
      ],
      "execution_count": null,
      "outputs": [
        {
          "output_type": "stream",
          "text": [
            "Learning\n"
          ],
          "name": "stdout"
        }
      ]
    },
    {
      "cell_type": "code",
      "metadata": {
        "id": "n_vnzF8Pf4Xp",
        "colab_type": "code",
        "colab": {}
      },
      "source": [
        "def sqr(c):\n",
        "  return c**2"
      ],
      "execution_count": null,
      "outputs": []
    },
    {
      "cell_type": "code",
      "metadata": {
        "id": "-INAjOXJgKKa",
        "colab_type": "code",
        "colab": {}
      },
      "source": [
        "op = sqr(10)"
      ],
      "execution_count": null,
      "outputs": []
    },
    {
      "cell_type": "code",
      "metadata": {
        "id": "TKQ4vho6gO7R",
        "colab_type": "code",
        "colab": {
          "base_uri": "https://localhost:8080/",
          "height": 34
        },
        "outputId": "00e72c08-7542-4dd8-8dd2-1d182fc2ba2f"
      },
      "source": [
        "op"
      ],
      "execution_count": null,
      "outputs": [
        {
          "output_type": "execute_result",
          "data": {
            "text/plain": [
              "100"
            ]
          },
          "metadata": {
            "tags": []
          },
          "execution_count": 70
        }
      ]
    },
    {
      "cell_type": "markdown",
      "metadata": {
        "id": "kam03avJg0C3",
        "colab_type": "text"
      },
      "source": [
        "#<i> Lambda Expression </i>"
      ]
    },
    {
      "cell_type": "code",
      "metadata": {
        "id": "yy-o6D-ig2-C",
        "colab_type": "code",
        "colab": {}
      },
      "source": [
        "def func(x):\n",
        "  print(x*3)"
      ],
      "execution_count": null,
      "outputs": []
    },
    {
      "cell_type": "code",
      "metadata": {
        "id": "X3L2p6cMhJRq",
        "colab_type": "code",
        "colab": {
          "base_uri": "https://localhost:8080/",
          "height": 34
        },
        "outputId": "7feba7d9-c318-44ab-e7fb-0f17cd957d14"
      },
      "source": [
        "ip = func(10)"
      ],
      "execution_count": null,
      "outputs": [
        {
          "output_type": "stream",
          "text": [
            "30\n"
          ],
          "name": "stdout"
        }
      ]
    },
    {
      "cell_type": "code",
      "metadata": {
        "id": "fWU4PgO4hMXp",
        "colab_type": "code",
        "colab": {}
      },
      "source": [
        "a = lambda x:x*3"
      ],
      "execution_count": null,
      "outputs": []
    },
    {
      "cell_type": "code",
      "metadata": {
        "id": "AQOSJwVehTSC",
        "colab_type": "code",
        "colab": {
          "base_uri": "https://localhost:8080/",
          "height": 34
        },
        "outputId": "a755a6c3-41ae-42e7-df6c-0ba482c3b554"
      },
      "source": [
        "a"
      ],
      "execution_count": null,
      "outputs": [
        {
          "output_type": "execute_result",
          "data": {
            "text/plain": [
              "<function __main__.<lambda>>"
            ]
          },
          "metadata": {
            "tags": []
          },
          "execution_count": 74
        }
      ]
    },
    {
      "cell_type": "markdown",
      "metadata": {
        "id": "FH4XCJhThfHe",
        "colab_type": "text"
      },
      "source": [
        "#<i> Maps and Filters </i>"
      ]
    },
    {
      "cell_type": "code",
      "metadata": {
        "id": "-4SG92tvhT1E",
        "colab_type": "code",
        "colab": {}
      },
      "source": [
        "rg = [2,3,4,5,1,6]"
      ],
      "execution_count": null,
      "outputs": []
    },
    {
      "cell_type": "code",
      "metadata": {
        "id": "10HXEfF1hWt7",
        "colab_type": "code",
        "colab": {}
      },
      "source": [
        "def func(a):\n",
        "  return a**2\n"
      ],
      "execution_count": null,
      "outputs": []
    },
    {
      "cell_type": "code",
      "metadata": {
        "id": "kQq3WmuIjtKa",
        "colab_type": "code",
        "colab": {
          "base_uri": "https://localhost:8080/",
          "height": 34
        },
        "outputId": "57200730-d1b1-427b-f1c5-69de784a77d3"
      },
      "source": [
        "map(func,rg)"
      ],
      "execution_count": null,
      "outputs": [
        {
          "output_type": "execute_result",
          "data": {
            "text/plain": [
              "<map at 0x7f3771b2c5c0>"
            ]
          },
          "metadata": {
            "tags": []
          },
          "execution_count": 100
        }
      ]
    },
    {
      "cell_type": "code",
      "metadata": {
        "id": "xWf011Yqj2FU",
        "colab_type": "code",
        "colab": {
          "base_uri": "https://localhost:8080/",
          "height": 34
        },
        "outputId": "24d1f21f-2b6b-4468-8565-a26dff07ea6f"
      },
      "source": [
        "tuple(map(func,rg))"
      ],
      "execution_count": null,
      "outputs": [
        {
          "output_type": "execute_result",
          "data": {
            "text/plain": [
              "(4, 9, 16, 25, 1, 36)"
            ]
          },
          "metadata": {
            "tags": []
          },
          "execution_count": 101
        }
      ]
    },
    {
      "cell_type": "code",
      "metadata": {
        "id": "9oSuOn2Sj7FB",
        "colab_type": "code",
        "colab": {
          "base_uri": "https://localhost:8080/",
          "height": 34
        },
        "outputId": "1734accd-1ae8-4359-dd55-2e8b07d72373"
      },
      "source": [
        "list(map(lambda b:b*3,rg))"
      ],
      "execution_count": null,
      "outputs": [
        {
          "output_type": "execute_result",
          "data": {
            "text/plain": [
              "[6, 9, 12, 15, 3, 18]"
            ]
          },
          "metadata": {
            "tags": []
          },
          "execution_count": 102
        }
      ]
    },
    {
      "cell_type": "code",
      "metadata": {
        "id": "uHGljuA4kHcI",
        "colab_type": "code",
        "colab": {
          "base_uri": "https://localhost:8080/",
          "height": 34
        },
        "outputId": "437352e4-6405-43e8-b97e-e2affb761ff8"
      },
      "source": [
        "filter(lambda c:c%3==0,rg)"
      ],
      "execution_count": null,
      "outputs": [
        {
          "output_type": "execute_result",
          "data": {
            "text/plain": [
              "<filter at 0x7f3771b86cf8>"
            ]
          },
          "metadata": {
            "tags": []
          },
          "execution_count": 103
        }
      ]
    },
    {
      "cell_type": "code",
      "metadata": {
        "id": "Dpr1IxP9kT3r",
        "colab_type": "code",
        "colab": {
          "base_uri": "https://localhost:8080/",
          "height": 34
        },
        "outputId": "05ac5ffa-c91e-4992-f680-4c93d6d2869a"
      },
      "source": [
        "list(filter(lambda c:c%3==0,rg))"
      ],
      "execution_count": null,
      "outputs": [
        {
          "output_type": "execute_result",
          "data": {
            "text/plain": [
              "[3, 6]"
            ]
          },
          "metadata": {
            "tags": []
          },
          "execution_count": 104
        }
      ]
    },
    {
      "cell_type": "markdown",
      "metadata": {
        "id": "qYAfD9aLhtoo",
        "colab_type": "text"
      },
      "source": [
        "#<i> Methods </i>"
      ]
    },
    {
      "cell_type": "code",
      "metadata": {
        "id": "MUWcKgwAhwTk",
        "colab_type": "code",
        "colab": {}
      },
      "source": [
        "a = \"Hello World!! Welcome to Machine Learning\""
      ],
      "execution_count": null,
      "outputs": []
    },
    {
      "cell_type": "code",
      "metadata": {
        "id": "U25KJcbdh4Dp",
        "colab_type": "code",
        "colab": {
          "base_uri": "https://localhost:8080/",
          "height": 34
        },
        "outputId": "6a0af36b-9ebf-48fe-8a9a-07ffb2aab29b"
      },
      "source": [
        "a.lower()"
      ],
      "execution_count": null,
      "outputs": [
        {
          "output_type": "execute_result",
          "data": {
            "text/plain": [
              "'hello world!! welcome to machine learning'"
            ]
          },
          "metadata": {
            "tags": []
          },
          "execution_count": 77
        }
      ]
    },
    {
      "cell_type": "code",
      "metadata": {
        "id": "k6H2cvtqh6kB",
        "colab_type": "code",
        "colab": {
          "base_uri": "https://localhost:8080/",
          "height": 34
        },
        "outputId": "a35ca84a-97fa-4f8a-b171-46832ce3c922"
      },
      "source": [
        "a.upper()"
      ],
      "execution_count": null,
      "outputs": [
        {
          "output_type": "execute_result",
          "data": {
            "text/plain": [
              "'HELLO WORLD!! WELCOME TO MACHINE LEARNING'"
            ]
          },
          "metadata": {
            "tags": []
          },
          "execution_count": 78
        }
      ]
    },
    {
      "cell_type": "code",
      "metadata": {
        "id": "gdeCyPKph9hX",
        "colab_type": "code",
        "colab": {
          "base_uri": "https://localhost:8080/",
          "height": 34
        },
        "outputId": "7095ae21-b3f7-4ff4-b39f-db333d2b9367"
      },
      "source": [
        "a.split()"
      ],
      "execution_count": null,
      "outputs": [
        {
          "output_type": "execute_result",
          "data": {
            "text/plain": [
              "['Hello', 'World!!', 'Welcome', 'to', 'Machine', 'Learning']"
            ]
          },
          "metadata": {
            "tags": []
          },
          "execution_count": 79
        }
      ]
    },
    {
      "cell_type": "code",
      "metadata": {
        "id": "rsYydtrNh_Qv",
        "colab_type": "code",
        "colab": {
          "base_uri": "https://localhost:8080/",
          "height": 34
        },
        "outputId": "af764514-9462-43d0-b391-8577311f66d3"
      },
      "source": [
        "a.split('!')"
      ],
      "execution_count": null,
      "outputs": [
        {
          "output_type": "execute_result",
          "data": {
            "text/plain": [
              "['Hello World', '', ' Welcome to Machine Learning']"
            ]
          },
          "metadata": {
            "tags": []
          },
          "execution_count": 81
        }
      ]
    },
    {
      "cell_type": "code",
      "metadata": {
        "id": "dfE9gwO5iKBw",
        "colab_type": "code",
        "colab": {}
      },
      "source": [
        "dp = {'car':'Audi','Bike':'RE','Computers':'Laptops'}\n"
      ],
      "execution_count": null,
      "outputs": []
    },
    {
      "cell_type": "code",
      "metadata": {
        "id": "37PhuqwhimEz",
        "colab_type": "code",
        "colab": {
          "base_uri": "https://localhost:8080/",
          "height": 34
        },
        "outputId": "6e72b191-d811-48d7-b95a-6c4287492510"
      },
      "source": [
        "dp.keys()"
      ],
      "execution_count": null,
      "outputs": [
        {
          "output_type": "execute_result",
          "data": {
            "text/plain": [
              "dict_keys(['car', 'Bike', 'Computers'])"
            ]
          },
          "metadata": {
            "tags": []
          },
          "execution_count": 85
        }
      ]
    },
    {
      "cell_type": "code",
      "metadata": {
        "id": "3x5FBzjdiocZ",
        "colab_type": "code",
        "colab": {
          "base_uri": "https://localhost:8080/",
          "height": 34
        },
        "outputId": "ce1007d1-88a9-4e0a-983f-767f91b008f4"
      },
      "source": [
        "dp.values()"
      ],
      "execution_count": null,
      "outputs": [
        {
          "output_type": "execute_result",
          "data": {
            "text/plain": [
              "dict_values(['Audi', 'RE', 'Laptops'])"
            ]
          },
          "metadata": {
            "tags": []
          },
          "execution_count": 86
        }
      ]
    },
    {
      "cell_type": "code",
      "metadata": {
        "id": "kLDjxPQsivSi",
        "colab_type": "code",
        "colab": {}
      },
      "source": [
        "abc = [12,23,34,45,56,67,78]\n"
      ],
      "execution_count": null,
      "outputs": []
    },
    {
      "cell_type": "code",
      "metadata": {
        "id": "3gxaFcnoi5hJ",
        "colab_type": "code",
        "colab": {
          "base_uri": "https://localhost:8080/",
          "height": 34
        },
        "outputId": "d1f55396-d61a-43bd-bef5-50a309660233"
      },
      "source": [
        "abc.pop()"
      ],
      "execution_count": null,
      "outputs": [
        {
          "output_type": "execute_result",
          "data": {
            "text/plain": [
              "78"
            ]
          },
          "metadata": {
            "tags": []
          },
          "execution_count": 88
        }
      ]
    },
    {
      "cell_type": "code",
      "metadata": {
        "id": "8zYCIg-Pi7Ej",
        "colab_type": "code",
        "colab": {
          "base_uri": "https://localhost:8080/",
          "height": 34
        },
        "outputId": "2c302734-0366-41c6-cbc9-7ba1df430d90"
      },
      "source": [
        "abc"
      ],
      "execution_count": null,
      "outputs": [
        {
          "output_type": "execute_result",
          "data": {
            "text/plain": [
              "[12, 23, 34, 45, 56, 67]"
            ]
          },
          "metadata": {
            "tags": []
          },
          "execution_count": 89
        }
      ]
    },
    {
      "cell_type": "code",
      "metadata": {
        "id": "A2DuC-s-i8ey",
        "colab_type": "code",
        "colab": {
          "base_uri": "https://localhost:8080/",
          "height": 34
        },
        "outputId": "16b46664-2fc6-497e-d00f-ea1bcb785f69"
      },
      "source": [
        "abc.pop()\n"
      ],
      "execution_count": null,
      "outputs": [
        {
          "output_type": "execute_result",
          "data": {
            "text/plain": [
              "67"
            ]
          },
          "metadata": {
            "tags": []
          },
          "execution_count": 90
        }
      ]
    },
    {
      "cell_type": "code",
      "metadata": {
        "id": "qOoGiU4gi-1B",
        "colab_type": "code",
        "colab": {
          "base_uri": "https://localhost:8080/",
          "height": 34
        },
        "outputId": "cc9a5c8e-a2c8-4f77-8131-e99b3779a46d"
      },
      "source": [
        "abc"
      ],
      "execution_count": null,
      "outputs": [
        {
          "output_type": "execute_result",
          "data": {
            "text/plain": [
              "[12, 23, 34, 45, 56]"
            ]
          },
          "metadata": {
            "tags": []
          },
          "execution_count": 91
        }
      ]
    },
    {
      "cell_type": "code",
      "metadata": {
        "id": "Vh-MRSJbi_6s",
        "colab_type": "code",
        "colab": {
          "base_uri": "https://localhost:8080/",
          "height": 101
        },
        "outputId": "982f48ba-7a1a-48e4-ec43-280c9b87a774"
      },
      "source": [
        "for a in abc:\n",
        "  print(\"Hello\")"
      ],
      "execution_count": null,
      "outputs": [
        {
          "output_type": "stream",
          "text": [
            "Hello\n",
            "Hello\n",
            "Hello\n",
            "Hello\n",
            "Hello\n"
          ],
          "name": "stdout"
        }
      ]
    },
    {
      "cell_type": "code",
      "metadata": {
        "id": "LAaYqAgfjDh9",
        "colab_type": "code",
        "colab": {
          "base_uri": "https://localhost:8080/",
          "height": 34
        },
        "outputId": "147fc36e-f2cc-4fe2-84f1-ed53943245cb"
      },
      "source": [
        "a in [1,3,4,2,5,7]"
      ],
      "execution_count": null,
      "outputs": [
        {
          "output_type": "execute_result",
          "data": {
            "text/plain": [
              "False"
            ]
          },
          "metadata": {
            "tags": []
          },
          "execution_count": 93
        }
      ]
    },
    {
      "cell_type": "code",
      "metadata": {
        "id": "xzpAqvXjjJdS",
        "colab_type": "code",
        "colab": {
          "base_uri": "https://localhost:8080/",
          "height": 34
        },
        "outputId": "2ff2ba88-b7fd-402e-8bda-e381439a7d6b"
      },
      "source": [
        "a in ['a','b','v']"
      ],
      "execution_count": null,
      "outputs": [
        {
          "output_type": "execute_result",
          "data": {
            "text/plain": [
              "False"
            ]
          },
          "metadata": {
            "tags": []
          },
          "execution_count": 94
        }
      ]
    },
    {
      "cell_type": "code",
      "metadata": {
        "id": "7CoGMGdujOwb",
        "colab_type": "code",
        "colab": {}
      },
      "source": [
        ""
      ],
      "execution_count": null,
      "outputs": []
    }
  ]
}