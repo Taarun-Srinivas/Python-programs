{
 "cells": [
  {
   "cell_type": "code",
   "execution_count": 10,
   "metadata": {},
   "outputs": [
    {
     "name": "stdout",
     "output_type": "stream",
     "text": [
      "0    [1, 2, 3, 4, 5]\n",
      "1       [4, 5, 6, 7]\n",
      "dtype: object\n"
     ]
    }
   ],
   "source": [
    "import pandas as pd\n",
    "\n",
    "a = [[1,2,3,4,5],[4,5,6,7]]\n",
    "\n",
    "b = pd.Series(a)\n",
    "\n",
    "print(b)\n",
    "\n",
    "#print(type(b))"
   ]
  },
  {
   "cell_type": "code",
   "execution_count": 9,
   "metadata": {},
   "outputs": [
    {
     "name": "stdout",
     "output_type": "stream",
     "text": [
      "brand 0    samsung\n",
      "1       vivo\n",
      "2      redmi\n",
      "3      apple\n",
      "4    oneplus\n",
      "Name: brand, dtype: object\n",
      "quantity 0    10\n",
      "1    20\n",
      "2    12\n",
      "3    19\n",
      "4    50\n",
      "Name: quantity, dtype: int64\n"
     ]
    }
   ],
   "source": [
    "import pandas as pd\n",
    "dict = {\"brand\":['samsung','vivo','redmi','apple','oneplus'], \"quantity\":[10,20,12,19,50]}\n",
    "\n",
    "a = pd.DataFrame(dict)\n",
    "a\n",
    "#type(a)\n",
    "\n",
    "#for ind,rows in a.iterrows():\n",
    " #    print(ind,rows)\n",
    "\n",
    "    \n",
    "#for cols,num in a.iteritems():\n",
    " #   print(cols,num)"
   ]
  },
  {
   "cell_type": "code",
   "execution_count": 36,
   "metadata": {},
   "outputs": [
    {
     "data": {
      "text/html": [
       "<div>\n",
       "<style scoped>\n",
       "    .dataframe tbody tr th:only-of-type {\n",
       "        vertical-align: middle;\n",
       "    }\n",
       "\n",
       "    .dataframe tbody tr th {\n",
       "        vertical-align: top;\n",
       "    }\n",
       "\n",
       "    .dataframe thead th {\n",
       "        text-align: right;\n",
       "    }\n",
       "</style>\n",
       "<table border=\"1\" class=\"dataframe\">\n",
       "  <thead>\n",
       "    <tr style=\"text-align: right;\">\n",
       "      <th></th>\n",
       "      <th>A</th>\n",
       "    </tr>\n",
       "  </thead>\n",
       "  <tbody>\n",
       "    <tr>\n",
       "      <td>a</td>\n",
       "      <td>1</td>\n",
       "    </tr>\n",
       "    <tr>\n",
       "      <td>b</td>\n",
       "      <td>2</td>\n",
       "    </tr>\n",
       "    <tr>\n",
       "      <td>c</td>\n",
       "      <td>3</td>\n",
       "    </tr>\n",
       "    <tr>\n",
       "      <td>d</td>\n",
       "      <td>4</td>\n",
       "    </tr>\n",
       "    <tr>\n",
       "      <td>e</td>\n",
       "      <td>5</td>\n",
       "    </tr>\n",
       "  </tbody>\n",
       "</table>\n",
       "</div>"
      ],
      "text/plain": [
       "   A\n",
       "a  1\n",
       "b  2\n",
       "c  3\n",
       "d  4\n",
       "e  5"
      ]
     },
     "execution_count": 36,
     "metadata": {},
     "output_type": "execute_result"
    }
   ],
   "source": [
    "\n",
    "import numpy as np\n",
    "a = [1,2,3,4,5]\n",
    "\n",
    "b = pd.DataFrame(a)\n",
    "b\n",
    "\n",
    "c = b.rename(index = {0:\"a\",1:\"b\",2:\"c\",3:\"d\",4:\"e\"}, inplace = True)\n",
    "d = b.rename(index = str, columns = {0:\"A\"}, inplace  = True)\n",
    "\n",
    "b"
   ]
  },
  {
   "cell_type": "code",
   "execution_count": 28,
   "metadata": {},
   "outputs": [
    {
     "data": {
      "text/html": [
       "<div>\n",
       "<style scoped>\n",
       "    .dataframe tbody tr th:only-of-type {\n",
       "        vertical-align: middle;\n",
       "    }\n",
       "\n",
       "    .dataframe tbody tr th {\n",
       "        vertical-align: top;\n",
       "    }\n",
       "\n",
       "    .dataframe thead th {\n",
       "        text-align: right;\n",
       "    }\n",
       "</style>\n",
       "<table border=\"1\" class=\"dataframe\">\n",
       "  <thead>\n",
       "    <tr style=\"text-align: right;\">\n",
       "      <th></th>\n",
       "      <th>0</th>\n",
       "      <th>1</th>\n",
       "      <th>2</th>\n",
       "      <th>3</th>\n",
       "      <th>4</th>\n",
       "    </tr>\n",
       "  </thead>\n",
       "  <tbody>\n",
       "    <tr>\n",
       "      <td>0</td>\n",
       "      <td>1</td>\n",
       "      <td>2</td>\n",
       "      <td>3</td>\n",
       "      <td>4.0</td>\n",
       "      <td>5.0</td>\n",
       "    </tr>\n",
       "    <tr>\n",
       "      <td>1</td>\n",
       "      <td>10</td>\n",
       "      <td>11</td>\n",
       "      <td>12</td>\n",
       "      <td>NaN</td>\n",
       "      <td>NaN</td>\n",
       "    </tr>\n",
       "  </tbody>\n",
       "</table>\n",
       "</div>"
      ],
      "text/plain": [
       "    0   1   2    3    4\n",
       "0   1   2   3  4.0  5.0\n",
       "1  10  11  12  NaN  NaN"
      ]
     },
     "execution_count": 28,
     "metadata": {},
     "output_type": "execute_result"
    }
   ],
   "source": [
    "a = [[1,2,3,4,5],[10,11,12]]\n",
    "b = pd.DataFrame(a)\n",
    "b\n"
   ]
  },
  {
   "cell_type": "code",
   "execution_count": 98,
   "metadata": {},
   "outputs": [
    {
     "data": {
      "text/plain": [
       "0      0\n",
       "1      0\n",
       "2      0\n",
       "3      0\n",
       "4      0\n",
       "      ..\n",
       "145    2\n",
       "146    2\n",
       "147    2\n",
       "148    2\n",
       "149    2\n",
       "Length: 150, dtype: int8"
      ]
     },
     "execution_count": 98,
     "metadata": {},
     "output_type": "execute_result"
    }
   ],
   "source": [
    "import pandas as pd\n",
    "\n",
    "a = pd.read_csv('Iris.csv')\n",
    "a\n",
    "\n",
    "#b = a.groupby(\"Species\").describe()\n",
    "#c = a.describe()\n",
    "#c\n",
    "\n",
    "#d1 = a.median()\n",
    "\n",
    "#d1\n",
    "#d2 = a.mode()\n",
    "#d2\n",
    "#d3 = a.mean()\n",
    "#d3\n",
    "#d4 = a.std()\n",
    "#d4\n",
    "#type(d4)\n",
    "\n",
    "#tan = a['SepalLengthCm']\n",
    "#tan\n",
    "\n",
    "#n = a.PetalWidthCm\n",
    "#n\n",
    "\n",
    "a[1:4][['SepalLengthCm','PetalLengthCm']]\n",
    "#a.iloc[1:5,2:5]\n",
    "\n",
    "#i = a[a.PetalLengthCm>5]\n",
    "#i\n",
    "#j = a[a.SepalLengthCm <6]\n",
    "#j\n",
    "\n",
    "#m = a.loc[~a['PetalLengthCm'].isin([1.2,4.5])]\n",
    "#m\n",
    "\n",
    "#v = a['SepalLengthCm'][:11].plot(kind = 'bar')\n",
    "#v\n",
    "\n",
    "#x = a[\"Species\"].astype('category')\n",
    "#x1 = x.cat.codes\n",
    "#x1"
   ]
  },
  {
   "cell_type": "code",
   "execution_count": 13,
   "metadata": {},
   "outputs": [
    {
     "data": {
      "text/plain": [
       "140          NaN\n",
       "141          NaN\n",
       "142          NaN\n",
       "143          NaN\n",
       "144          NaN\n",
       "          ...   \n",
       "2800    0.003719\n",
       "2801    0.004625\n",
       "2802    0.002885\n",
       "2803    0.002745\n",
       "2804    0.004872\n",
       "Name: Temperature, Length: 2665, dtype: float64"
      ]
     },
     "execution_count": 13,
     "metadata": {},
     "output_type": "execute_result"
    }
   ],
   "source": [
    "import pandas as pd\n",
    "\n",
    "a = pd.read_csv('datatest.txt')\n",
    "\n",
    "b = a['Temperature'].pct_change(periods=5)\n",
    "b\n",
    "\n"
   ]
  }
 ],
 "metadata": {
  "kernelspec": {
   "display_name": "Python 3",
   "language": "python",
   "name": "python3"
  },
  "language_info": {
   "codemirror_mode": {
    "name": "ipython",
    "version": 3
   },
   "file_extension": ".py",
   "mimetype": "text/x-python",
   "name": "python",
   "nbconvert_exporter": "python",
   "pygments_lexer": "ipython3",
   "version": "3.7.4"
  }
 },
 "nbformat": 4,
 "nbformat_minor": 2
}
