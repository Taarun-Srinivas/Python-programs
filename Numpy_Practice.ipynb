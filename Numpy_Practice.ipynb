{
  "nbformat": 4,
  "nbformat_minor": 0,
  "metadata": {
    "colab": {
      "name": "assignment-2:Numpy.ipynb",
      "provenance": [],
      "collapsed_sections": []
    },
    "kernelspec": {
      "name": "python3",
      "display_name": "Python 3"
    }
  },
  "cells": [
    {
      "cell_type": "code",
      "metadata": {
        "id": "tWXBYMUzsfCM",
        "colab_type": "code",
        "colab": {}
      },
      "source": [
        "import numpy as np \n",
        "a = [10,20,12,23,34,45,56,67]\n",
        "a1 = np.array(a)"
      ],
      "execution_count": null,
      "outputs": []
    },
    {
      "cell_type": "code",
      "metadata": {
        "id": "4My2C8yTsvZV",
        "colab_type": "code",
        "colab": {
          "base_uri": "https://localhost:8080/",
          "height": 34
        },
        "outputId": "0c5c87bb-db1e-4049-852e-0cb074f3f54d"
      },
      "source": [
        "print(type(a1))"
      ],
      "execution_count": null,
      "outputs": [
        {
          "output_type": "stream",
          "text": [
            "<class 'numpy.ndarray'>\n"
          ],
          "name": "stdout"
        }
      ]
    },
    {
      "cell_type": "code",
      "metadata": {
        "id": "wOul9maIs5qQ",
        "colab_type": "code",
        "colab": {
          "base_uri": "https://localhost:8080/",
          "height": 34
        },
        "outputId": "da602d0f-7912-4bae-870f-235c4b142c05"
      },
      "source": [
        "print(a1)"
      ],
      "execution_count": null,
      "outputs": [
        {
          "output_type": "stream",
          "text": [
            "[10 20 12 23 34 45 56 67]\n"
          ],
          "name": "stdout"
        }
      ]
    },
    {
      "cell_type": "code",
      "metadata": {
        "id": "wlNpFPMss7Kw",
        "colab_type": "code",
        "colab": {
          "base_uri": "https://localhost:8080/",
          "height": 162
        },
        "outputId": "4abd637e-4df4-4869-f080-4c4f2e9cd595"
      },
      "source": [
        "\n",
        "a = a + 10"
      ],
      "execution_count": null,
      "outputs": [
        {
          "output_type": "error",
          "ename": "TypeError",
          "evalue": "ignored",
          "traceback": [
            "\u001b[0;31m---------------------------------------------------------------------------\u001b[0m",
            "\u001b[0;31mTypeError\u001b[0m                                 Traceback (most recent call last)",
            "\u001b[0;32m<ipython-input-5-ca70d0b094ff>\u001b[0m in \u001b[0;36m<module>\u001b[0;34m()\u001b[0m\n\u001b[0;32m----> 1\u001b[0;31m \u001b[0ma\u001b[0m \u001b[0;34m=\u001b[0m \u001b[0ma\u001b[0m \u001b[0;34m+\u001b[0m \u001b[0;36m10\u001b[0m\u001b[0;34m\u001b[0m\u001b[0;34m\u001b[0m\u001b[0m\n\u001b[0m",
            "\u001b[0;31mTypeError\u001b[0m: can only concatenate list (not \"int\") to list"
          ]
        }
      ]
    },
    {
      "cell_type": "code",
      "metadata": {
        "id": "ktgOk--RtA04",
        "colab_type": "code",
        "colab": {}
      },
      "source": [
        "a1 = a1 + 12"
      ],
      "execution_count": null,
      "outputs": []
    },
    {
      "cell_type": "code",
      "metadata": {
        "id": "VGCWzhqCtEjI",
        "colab_type": "code",
        "colab": {
          "base_uri": "https://localhost:8080/",
          "height": 34
        },
        "outputId": "69fe7cd5-a648-499b-9dde-505c57ce23d0"
      },
      "source": [
        "a1"
      ],
      "execution_count": null,
      "outputs": [
        {
          "output_type": "execute_result",
          "data": {
            "text/plain": [
              "array([22, 32, 24, 35, 46, 57, 68, 79])"
            ]
          },
          "metadata": {
            "tags": []
          },
          "execution_count": 7
        }
      ]
    },
    {
      "cell_type": "code",
      "metadata": {
        "id": "_xWVKabXtFbZ",
        "colab_type": "code",
        "colab": {}
      },
      "source": [
        "mul = [[0,9,8],[7,6,5],[4,3,2]] "
      ],
      "execution_count": null,
      "outputs": []
    },
    {
      "cell_type": "code",
      "metadata": {
        "id": "UamlhlF2tTk7",
        "colab_type": "code",
        "colab": {
          "base_uri": "https://localhost:8080/",
          "height": 34
        },
        "outputId": "742c9ab2-befd-4e4e-a787-f790d829827a"
      },
      "source": [
        "mul"
      ],
      "execution_count": null,
      "outputs": [
        {
          "output_type": "execute_result",
          "data": {
            "text/plain": [
              "[[0, 9, 8], [7, 6, 5], [4, 3, 2]]"
            ]
          },
          "metadata": {
            "tags": []
          },
          "execution_count": 9
        }
      ]
    },
    {
      "cell_type": "code",
      "metadata": {
        "id": "wx69BQ52tUex",
        "colab_type": "code",
        "colab": {}
      },
      "source": [
        "b = np.array(mul)"
      ],
      "execution_count": null,
      "outputs": []
    },
    {
      "cell_type": "code",
      "metadata": {
        "id": "2XFOvJ-htclA",
        "colab_type": "code",
        "colab": {
          "base_uri": "https://localhost:8080/",
          "height": 67
        },
        "outputId": "2a0939d6-bc84-424b-8ac6-24307326b044"
      },
      "source": [
        "b"
      ],
      "execution_count": null,
      "outputs": [
        {
          "output_type": "execute_result",
          "data": {
            "text/plain": [
              "array([[0, 9, 8],\n",
              "       [7, 6, 5],\n",
              "       [4, 3, 2]])"
            ]
          },
          "metadata": {
            "tags": []
          },
          "execution_count": 11
        }
      ]
    },
    {
      "cell_type": "code",
      "metadata": {
        "id": "zF95gt1GtdVJ",
        "colab_type": "code",
        "colab": {}
      },
      "source": [
        "c = np.array(b, dtype = float)"
      ],
      "execution_count": null,
      "outputs": []
    },
    {
      "cell_type": "code",
      "metadata": {
        "id": "rQjDy9q1tmqQ",
        "colab_type": "code",
        "colab": {
          "base_uri": "https://localhost:8080/",
          "height": 67
        },
        "outputId": "18f5101f-eb6a-40e1-f59d-feda40db3516"
      },
      "source": [
        "c"
      ],
      "execution_count": null,
      "outputs": [
        {
          "output_type": "execute_result",
          "data": {
            "text/plain": [
              "array([[0., 9., 8.],\n",
              "       [7., 6., 5.],\n",
              "       [4., 3., 2.]])"
            ]
          },
          "metadata": {
            "tags": []
          },
          "execution_count": 13
        }
      ]
    },
    {
      "cell_type": "code",
      "metadata": {
        "id": "Fa8Ua6zItnKA",
        "colab_type": "code",
        "colab": {
          "base_uri": "https://localhost:8080/",
          "height": 67
        },
        "outputId": "76d6c7f7-3b01-4bf2-ffbe-f908f29a056c"
      },
      "source": [
        "c.astype(int)"
      ],
      "execution_count": null,
      "outputs": [
        {
          "output_type": "execute_result",
          "data": {
            "text/plain": [
              "array([[0, 9, 8],\n",
              "       [7, 6, 5],\n",
              "       [4, 3, 2]])"
            ]
          },
          "metadata": {
            "tags": []
          },
          "execution_count": 14
        }
      ]
    },
    {
      "cell_type": "code",
      "metadata": {
        "id": "o_Lwlkr-tsuR",
        "colab_type": "code",
        "colab": {
          "base_uri": "https://localhost:8080/",
          "height": 67
        },
        "outputId": "1c8fd780-a259-4752-f038-3afdfe07d757"
      },
      "source": [
        "c.astype(str)"
      ],
      "execution_count": null,
      "outputs": [
        {
          "output_type": "execute_result",
          "data": {
            "text/plain": [
              "array([['0.0', '9.0', '8.0'],\n",
              "       ['7.0', '6.0', '5.0'],\n",
              "       ['4.0', '3.0', '2.0']], dtype='<U32')"
            ]
          },
          "metadata": {
            "tags": []
          },
          "execution_count": 15
        }
      ]
    },
    {
      "cell_type": "code",
      "metadata": {
        "id": "i6nEBtnRuHQg",
        "colab_type": "code",
        "colab": {
          "base_uri": "https://localhost:8080/",
          "height": 34
        },
        "outputId": "e62e152d-fe2c-4b66-a2c0-a9d7185f1e2b"
      },
      "source": [
        "c.tolist()"
      ],
      "execution_count": null,
      "outputs": [
        {
          "output_type": "execute_result",
          "data": {
            "text/plain": [
              "[[0.0, 9.0, 8.0], [7.0, 6.0, 5.0], [4.0, 3.0, 2.0]]"
            ]
          },
          "metadata": {
            "tags": []
          },
          "execution_count": 16
        }
      ]
    },
    {
      "cell_type": "code",
      "metadata": {
        "id": "0JWFgHKQuOMw",
        "colab_type": "code",
        "colab": {}
      },
      "source": [
        "ml = [[1,2,3,4],[4,5,6,7],[7,8,9,10],[10,12,14,16]]\n",
        "ml = np.array(ml)"
      ],
      "execution_count": null,
      "outputs": []
    },
    {
      "cell_type": "code",
      "metadata": {
        "id": "lM3AggKYum2w",
        "colab_type": "code",
        "colab": {
          "base_uri": "https://localhost:8080/",
          "height": 84
        },
        "outputId": "1e83aea3-2c7c-4943-f4f4-ae03699342a9"
      },
      "source": [
        "print(ml)"
      ],
      "execution_count": null,
      "outputs": [
        {
          "output_type": "stream",
          "text": [
            "[[ 1  2  3  4]\n",
            " [ 4  5  6  7]\n",
            " [ 7  8  9 10]\n",
            " [10 12 14 16]]\n"
          ],
          "name": "stdout"
        }
      ]
    },
    {
      "cell_type": "code",
      "metadata": {
        "id": "idqOaB_2uoSo",
        "colab_type": "code",
        "colab": {
          "base_uri": "https://localhost:8080/",
          "height": 84
        },
        "outputId": "d9c40594-1251-4fd7-d77b-8a0589323de3"
      },
      "source": [
        "print(\"shape is {}\".format(ml.shape))\n",
        "print(\"size is {}\".format(ml.size))\n",
        "print(\"datatype is {}\".format(ml.dtype))\n",
        "print(\"the number of dimensions is {}\".format(ml.ndim))"
      ],
      "execution_count": null,
      "outputs": [
        {
          "output_type": "stream",
          "text": [
            "shape is (4, 4)\n",
            "size is 16\n",
            "datatype is int64\n",
            "the number of dimensions is 2\n"
          ],
          "name": "stdout"
        }
      ]
    },
    {
      "cell_type": "code",
      "metadata": {
        "id": "OVsglY3IvIWo",
        "colab_type": "code",
        "colab": {
          "base_uri": "https://localhost:8080/",
          "height": 84
        },
        "outputId": "bbe1ca07-b3df-4c15-a2a8-36af07fb9b49"
      },
      "source": [
        "ml"
      ],
      "execution_count": null,
      "outputs": [
        {
          "output_type": "execute_result",
          "data": {
            "text/plain": [
              "array([[ 1,  2,  3,  4],\n",
              "       [ 4,  5,  6,  7],\n",
              "       [ 7,  8,  9, 10],\n",
              "       [10, 12, 14, 16]])"
            ]
          },
          "metadata": {
            "tags": []
          },
          "execution_count": 20
        }
      ]
    },
    {
      "cell_type": "code",
      "metadata": {
        "id": "GLp3O_VmvNcw",
        "colab_type": "code",
        "colab": {
          "base_uri": "https://localhost:8080/",
          "height": 67
        },
        "outputId": "a5168d5d-a205-4183-b796-c040be54804e"
      },
      "source": [
        "ml[:3,:2]"
      ],
      "execution_count": null,
      "outputs": [
        {
          "output_type": "execute_result",
          "data": {
            "text/plain": [
              "array([[1, 2],\n",
              "       [4, 5],\n",
              "       [7, 8]])"
            ]
          },
          "metadata": {
            "tags": []
          },
          "execution_count": 21
        }
      ]
    },
    {
      "cell_type": "code",
      "metadata": {
        "id": "MQmsLcq6vWcA",
        "colab_type": "code",
        "colab": {}
      },
      "source": [
        "ml = (ml> 10)"
      ],
      "execution_count": null,
      "outputs": []
    },
    {
      "cell_type": "code",
      "metadata": {
        "id": "YRT8KJ_NvlmY",
        "colab_type": "code",
        "colab": {
          "base_uri": "https://localhost:8080/",
          "height": 84
        },
        "outputId": "b7e91217-8491-4376-c8af-4df1f45b7dab"
      },
      "source": [
        "ml"
      ],
      "execution_count": null,
      "outputs": [
        {
          "output_type": "execute_result",
          "data": {
            "text/plain": [
              "array([[False, False, False, False],\n",
              "       [False, False, False, False],\n",
              "       [False, False, False, False],\n",
              "       [False,  True,  True,  True]])"
            ]
          },
          "metadata": {
            "tags": []
          },
          "execution_count": 23
        }
      ]
    },
    {
      "cell_type": "code",
      "metadata": {
        "id": "44GYDgHxvmYZ",
        "colab_type": "code",
        "colab": {
          "base_uri": "https://localhost:8080/",
          "height": 34
        },
        "outputId": "51f021de-7bbb-4697-983e-ab12a62e221a"
      },
      "source": [
        "ml[ml]"
      ],
      "execution_count": null,
      "outputs": [
        {
          "output_type": "execute_result",
          "data": {
            "text/plain": [
              "array([ True,  True,  True])"
            ]
          },
          "metadata": {
            "tags": []
          },
          "execution_count": 24
        }
      ]
    },
    {
      "cell_type": "code",
      "metadata": {
        "id": "nKr0wRHrwItY",
        "colab_type": "code",
        "colab": {
          "base_uri": "https://localhost:8080/",
          "height": 84
        },
        "outputId": "b7776891-b258-4f6b-dd60-043c4b1656b8"
      },
      "source": [
        "ml[::-1,]"
      ],
      "execution_count": null,
      "outputs": [
        {
          "output_type": "execute_result",
          "data": {
            "text/plain": [
              "array([[False,  True,  True,  True],\n",
              "       [False, False, False, False],\n",
              "       [False, False, False, False],\n",
              "       [False, False, False, False]])"
            ]
          },
          "metadata": {
            "tags": []
          },
          "execution_count": 25
        }
      ]
    },
    {
      "cell_type": "code",
      "metadata": {
        "id": "Kqu0ghRPwVNP",
        "colab_type": "code",
        "colab": {}
      },
      "source": [
        "infinity = [[1,3,5],[2,4,6],[1,2,8]]\n",
        "infinity = np.array(infinity)"
      ],
      "execution_count": null,
      "outputs": []
    },
    {
      "cell_type": "code",
      "metadata": {
        "id": "zWJpnoukwah_",
        "colab_type": "code",
        "colab": {
          "base_uri": "https://localhost:8080/",
          "height": 67
        },
        "outputId": "b44636e0-e65f-4911-a977-31a4700e558a"
      },
      "source": [
        "infinity "
      ],
      "execution_count": null,
      "outputs": [
        {
          "output_type": "execute_result",
          "data": {
            "text/plain": [
              "array([[1, 3, 5],\n",
              "       [2, 4, 6],\n",
              "       [1, 2, 8]])"
            ]
          },
          "metadata": {
            "tags": []
          },
          "execution_count": 27
        }
      ]
    },
    {
      "cell_type": "code",
      "metadata": {
        "id": "zCH6AK4LwdV3",
        "colab_type": "code",
        "colab": {
          "base_uri": "https://localhost:8080/",
          "height": 67
        },
        "outputId": "4f3971e2-17cc-454f-8c6c-10451a4b1cc4"
      },
      "source": [
        "infinity[::-1,::-1]\n"
      ],
      "execution_count": null,
      "outputs": [
        {
          "output_type": "execute_result",
          "data": {
            "text/plain": [
              "array([[8, 2, 1],\n",
              "       [6, 4, 2],\n",
              "       [5, 3, 1]])"
            ]
          },
          "metadata": {
            "tags": []
          },
          "execution_count": 28
        }
      ]
    },
    {
      "cell_type": "code",
      "metadata": {
        "id": "jdvh4UTswl4v",
        "colab_type": "code",
        "colab": {}
      },
      "source": [
        "ab = np.array(infinity, dtype = float)\n"
      ],
      "execution_count": null,
      "outputs": []
    },
    {
      "cell_type": "code",
      "metadata": {
        "id": "Eh2s_spS6zGY",
        "colab_type": "code",
        "colab": {}
      },
      "source": [
        "ab[1,2] = np.nan"
      ],
      "execution_count": null,
      "outputs": []
    },
    {
      "cell_type": "code",
      "metadata": {
        "id": "GN2-NfWR7LvX",
        "colab_type": "code",
        "colab": {
          "base_uri": "https://localhost:8080/",
          "height": 67
        },
        "outputId": "434d9dd0-66ad-427b-f546-2b08ec379af7"
      },
      "source": [
        "ab"
      ],
      "execution_count": null,
      "outputs": [
        {
          "output_type": "execute_result",
          "data": {
            "text/plain": [
              "array([[ 1.,  3.,  5.],\n",
              "       [ 2.,  4., nan],\n",
              "       [ 1.,  2.,  8.]])"
            ]
          },
          "metadata": {
            "tags": []
          },
          "execution_count": 31
        }
      ]
    },
    {
      "cell_type": "code",
      "metadata": {
        "id": "zPlEgT9O7NHe",
        "colab_type": "code",
        "colab": {}
      },
      "source": [
        "ab[0,0] = np.inf"
      ],
      "execution_count": null,
      "outputs": []
    },
    {
      "cell_type": "code",
      "metadata": {
        "id": "6dNmyyqf7TEl",
        "colab_type": "code",
        "colab": {
          "base_uri": "https://localhost:8080/",
          "height": 67
        },
        "outputId": "f20f3ea5-f663-474a-e0c4-e5018c1908d2"
      },
      "source": [
        "ab"
      ],
      "execution_count": null,
      "outputs": [
        {
          "output_type": "execute_result",
          "data": {
            "text/plain": [
              "array([[inf,  3.,  5.],\n",
              "       [ 2.,  4., nan],\n",
              "       [ 1.,  2.,  8.]])"
            ]
          },
          "metadata": {
            "tags": []
          },
          "execution_count": 33
        }
      ]
    },
    {
      "cell_type": "code",
      "metadata": {
        "id": "JM1sllWU7UDl",
        "colab_type": "code",
        "colab": {
          "base_uri": "https://localhost:8080/",
          "height": 67
        },
        "outputId": "341e25ed-6a80-4fa1-acac-2fc3fd8d179c"
      },
      "source": [
        "gb = np.isnan(ab) | np.isinf(ab)\n",
        "ab[gb] = -1 \n",
        "ab"
      ],
      "execution_count": null,
      "outputs": [
        {
          "output_type": "execute_result",
          "data": {
            "text/plain": [
              "array([[-1.,  3.,  5.],\n",
              "       [ 2.,  4., -1.],\n",
              "       [ 1.,  2.,  8.]])"
            ]
          },
          "metadata": {
            "tags": []
          },
          "execution_count": 34
        }
      ]
    },
    {
      "cell_type": "code",
      "metadata": {
        "id": "Wow6LVxL7kHr",
        "colab_type": "code",
        "colab": {
          "base_uri": "https://localhost:8080/",
          "height": 67
        },
        "outputId": "ca3df269-2fe9-4e6f-a3e9-ad01ca20f800"
      },
      "source": [
        "print(\"the mean value is {}\".format(ab.mean()))\n",
        "print(\"the max value is {}\".format(ab.max()))\n",
        "print(\"the min value is {}\".format(ab.min()))\n",
        "\n"
      ],
      "execution_count": null,
      "outputs": [
        {
          "output_type": "stream",
          "text": [
            "the mean value is 2.5555555555555554\n",
            "the max value is 8.0\n",
            "the min value is -1.0\n"
          ],
          "name": "stdout"
        }
      ]
    },
    {
      "cell_type": "code",
      "metadata": {
        "id": "BqynzrtY8Ob2",
        "colab_type": "code",
        "colab": {
          "base_uri": "https://localhost:8080/",
          "height": 34
        },
        "outputId": "5c6919c4-e4eb-40a5-b2ee-ad6cb9720d52"
      },
      "source": [
        "print(\"column wise minimum: {}\".format(np.amin(ab,axis=0)))"
      ],
      "execution_count": null,
      "outputs": [
        {
          "output_type": "stream",
          "text": [
            "column wise minimum: [-1.  2. -1.]\n"
          ],
          "name": "stdout"
        }
      ]
    },
    {
      "cell_type": "code",
      "metadata": {
        "id": "KnwltnZt9BYH",
        "colab_type": "code",
        "colab": {
          "base_uri": "https://localhost:8080/",
          "height": 34
        },
        "outputId": "7eb6fb69-d09f-4e09-d49d-7e4abce483d8"
      },
      "source": [
        "\n",
        "print(\"row wise minimum: {}\".format(np.amin(ab,axis = 1)))"
      ],
      "execution_count": null,
      "outputs": [
        {
          "output_type": "stream",
          "text": [
            "row wise minimum: [-1. -1.  1.]\n"
          ],
          "name": "stdout"
        }
      ]
    },
    {
      "cell_type": "code",
      "metadata": {
        "id": "2Iye2w1p9ICW",
        "colab_type": "code",
        "colab": {
          "base_uri": "https://localhost:8080/",
          "height": 34
        },
        "outputId": "e53759f1-2a01-4700-a165-4f2f37c5960a"
      },
      "source": [
        "\n",
        "#Cumulative Sum\n",
        "np.cumsum(ab)"
      ],
      "execution_count": null,
      "outputs": [
        {
          "output_type": "execute_result",
          "data": {
            "text/plain": [
              "array([-1.,  2.,  7.,  9., 13., 12., 13., 15., 23.])"
            ]
          },
          "metadata": {
            "tags": []
          },
          "execution_count": 38
        }
      ]
    },
    {
      "cell_type": "code",
      "metadata": {
        "id": "HPPdX7sy9N-v",
        "colab_type": "code",
        "colab": {
          "base_uri": "https://localhost:8080/",
          "height": 50
        },
        "outputId": "ec10c783-b3f1-4377-9cbf-1e310bfacc70"
      },
      "source": [
        "abc = ab[:2,:2]  \n",
        "abc[:1, :1] = 20  \n",
        "abc"
      ],
      "execution_count": null,
      "outputs": [
        {
          "output_type": "execute_result",
          "data": {
            "text/plain": [
              "array([[20.,  3.],\n",
              "       [ 2.,  4.]])"
            ]
          },
          "metadata": {
            "tags": []
          },
          "execution_count": 39
        }
      ]
    },
    {
      "cell_type": "code",
      "metadata": {
        "id": "jwSgo53B9x43",
        "colab_type": "code",
        "colab": {
          "base_uri": "https://localhost:8080/",
          "height": 50
        },
        "outputId": "a0a7ef9a-ce5c-41f9-cfbd-c95f3d58180a"
      },
      "source": [
        "par = abc[:2, :2].copy()\n",
        "par[:1, :1] = 1000  \n",
        "par"
      ],
      "execution_count": null,
      "outputs": [
        {
          "output_type": "execute_result",
          "data": {
            "text/plain": [
              "array([[1000.,    3.],\n",
              "       [   2.,    4.]])"
            ]
          },
          "metadata": {
            "tags": []
          },
          "execution_count": 40
        }
      ]
    },
    {
      "cell_type": "code",
      "metadata": {
        "id": "645mCtNr-HeZ",
        "colab_type": "code",
        "colab": {}
      },
      "source": [
        "org = np.array([[1,2,3,4],[5,6,7,8]])"
      ],
      "execution_count": null,
      "outputs": []
    },
    {
      "cell_type": "code",
      "metadata": {
        "id": "UTDpKYam-dAu",
        "colab_type": "code",
        "colab": {
          "base_uri": "https://localhost:8080/",
          "height": 50
        },
        "outputId": "debea431-df4c-4b46-f441-9f33f0e0535d"
      },
      "source": [
        "org"
      ],
      "execution_count": null,
      "outputs": [
        {
          "output_type": "execute_result",
          "data": {
            "text/plain": [
              "array([[1, 2, 3, 4],\n",
              "       [5, 6, 7, 8]])"
            ]
          },
          "metadata": {
            "tags": []
          },
          "execution_count": 42
        }
      ]
    },
    {
      "cell_type": "code",
      "metadata": {
        "id": "qV3bF79v-fTO",
        "colab_type": "code",
        "colab": {
          "base_uri": "https://localhost:8080/",
          "height": 84
        },
        "outputId": "a8306d0b-128a-413c-bee4-f662db6007a8"
      },
      "source": [
        "org.reshape(4,2)"
      ],
      "execution_count": null,
      "outputs": [
        {
          "output_type": "execute_result",
          "data": {
            "text/plain": [
              "array([[1, 2],\n",
              "       [3, 4],\n",
              "       [5, 6],\n",
              "       [7, 8]])"
            ]
          },
          "metadata": {
            "tags": []
          },
          "execution_count": 43
        }
      ]
    },
    {
      "cell_type": "code",
      "metadata": {
        "id": "q6HqF8aF-owe",
        "colab_type": "code",
        "colab": {
          "base_uri": "https://localhost:8080/",
          "height": 34
        },
        "outputId": "6db27d11-afe4-4df0-95ce-a6282d153c7b"
      },
      "source": [
        "org.flatten()"
      ],
      "execution_count": null,
      "outputs": [
        {
          "output_type": "execute_result",
          "data": {
            "text/plain": [
              "array([1, 2, 3, 4, 5, 6, 7, 8])"
            ]
          },
          "metadata": {
            "tags": []
          },
          "execution_count": 44
        }
      ]
    },
    {
      "cell_type": "code",
      "metadata": {
        "id": "srRb1EnM-wT3",
        "colab_type": "code",
        "colab": {}
      },
      "source": [
        "d = org.flatten()\n"
      ],
      "execution_count": null,
      "outputs": []
    },
    {
      "cell_type": "code",
      "metadata": {
        "id": "F6tGROcb_xyH",
        "colab_type": "code",
        "colab": {}
      },
      "source": [
        "d[1] = 10"
      ],
      "execution_count": null,
      "outputs": []
    },
    {
      "cell_type": "code",
      "metadata": {
        "id": "Pz6EKEKNAOcv",
        "colab_type": "code",
        "colab": {
          "base_uri": "https://localhost:8080/",
          "height": 50
        },
        "outputId": "0fd2321a-c72f-424b-b9dd-1a6c19599701"
      },
      "source": [
        "print(org)"
      ],
      "execution_count": null,
      "outputs": [
        {
          "output_type": "stream",
          "text": [
            "[[1 2 3 4]\n",
            " [5 6 7 8]]\n"
          ],
          "name": "stdout"
        }
      ]
    },
    {
      "cell_type": "code",
      "metadata": {
        "id": "v8m-o0bHAQpO",
        "colab_type": "code",
        "colab": {}
      },
      "source": [
        "d1 = org.ravel()"
      ],
      "execution_count": null,
      "outputs": []
    },
    {
      "cell_type": "code",
      "metadata": {
        "id": "54TkPDVPAfCo",
        "colab_type": "code",
        "colab": {
          "base_uri": "https://localhost:8080/",
          "height": 34
        },
        "outputId": "85f996b3-d51a-4e83-b2d4-2b7129f759a8"
      },
      "source": [
        "d1"
      ],
      "execution_count": null,
      "outputs": [
        {
          "output_type": "execute_result",
          "data": {
            "text/plain": [
              "array([1, 2, 3, 4, 5, 6, 7, 8])"
            ]
          },
          "metadata": {
            "tags": []
          },
          "execution_count": 49
        }
      ]
    },
    {
      "cell_type": "code",
      "metadata": {
        "id": "Xx1e1Sd0Af12",
        "colab_type": "code",
        "colab": {
          "base_uri": "https://localhost:8080/",
          "height": 50
        },
        "outputId": "83f77e02-3bc9-4d08-91a2-8d56f4262203"
      },
      "source": [
        "d1[1] = 12\n",
        "org"
      ],
      "execution_count": null,
      "outputs": [
        {
          "output_type": "execute_result",
          "data": {
            "text/plain": [
              "array([[ 1, 12,  3,  4],\n",
              "       [ 5,  6,  7,  8]])"
            ]
          },
          "metadata": {
            "tags": []
          },
          "execution_count": 50
        }
      ]
    },
    {
      "cell_type": "code",
      "metadata": {
        "id": "2bxyfSnNBaFv",
        "colab_type": "code",
        "colab": {
          "base_uri": "https://localhost:8080/",
          "height": 84
        },
        "outputId": "64ef771d-6f3b-4bfe-b8ac-416f4a090910"
      },
      "source": [
        "print(np.arange(5))\n",
        "print(np.arange(1,10))\n",
        "print(np.arange(0,10,2))\n",
        "print(np.arange(20,0,-5))"
      ],
      "execution_count": null,
      "outputs": [
        {
          "output_type": "stream",
          "text": [
            "[0 1 2 3 4]\n",
            "[1 2 3 4 5 6 7 8 9]\n",
            "[0 2 4 6 8]\n",
            "[20 15 10  5]\n"
          ],
          "name": "stdout"
        }
      ]
    },
    {
      "cell_type": "code",
      "metadata": {
        "id": "wksHt7VFB7Cl",
        "colab_type": "code",
        "colab": {
          "base_uri": "https://localhost:8080/",
          "height": 34
        },
        "outputId": "713ae7f4-ce71-4b5c-93a7-b2f1b3081c54"
      },
      "source": [
        "np.linspace(start = 1, stop = 50, num = 5, dtype = int)"
      ],
      "execution_count": null,
      "outputs": [
        {
          "output_type": "execute_result",
          "data": {
            "text/plain": [
              "array([ 1, 13, 25, 37, 50])"
            ]
          },
          "metadata": {
            "tags": []
          },
          "execution_count": 52
        }
      ]
    },
    {
      "cell_type": "code",
      "metadata": {
        "id": "q3WYHBEeCL8Y",
        "colab_type": "code",
        "colab": {
          "base_uri": "https://localhost:8080/",
          "height": 67
        },
        "outputId": "e654a044-69da-43d0-d6e2-72b97546f185"
      },
      "source": [
        "np.set_printoptions(precision = 3)\n",
        "\n",
        "np.logspace(start = 10, stop = 100, num = 15, base = 10)"
      ],
      "execution_count": null,
      "outputs": [
        {
          "output_type": "execute_result",
          "data": {
            "text/plain": [
              "array([1.000e+010, 2.683e+016, 7.197e+022, 1.931e+029, 5.179e+035,\n",
              "       1.389e+042, 3.728e+048, 1.000e+055, 2.683e+061, 7.197e+067,\n",
              "       1.931e+074, 5.179e+080, 1.389e+087, 3.728e+093, 1.000e+100])"
            ]
          },
          "metadata": {
            "tags": []
          },
          "execution_count": 53
        }
      ]
    },
    {
      "cell_type": "code",
      "metadata": {
        "id": "hIPK_MZECXst",
        "colab_type": "code",
        "colab": {
          "base_uri": "https://localhost:8080/",
          "height": 67
        },
        "outputId": "8435f620-e47b-465c-83bd-5a2f7a2a9372"
      },
      "source": [
        "np.zeros([3,5])"
      ],
      "execution_count": null,
      "outputs": [
        {
          "output_type": "execute_result",
          "data": {
            "text/plain": [
              "array([[0., 0., 0., 0., 0.],\n",
              "       [0., 0., 0., 0., 0.],\n",
              "       [0., 0., 0., 0., 0.]])"
            ]
          },
          "metadata": {
            "tags": []
          },
          "execution_count": 54
        }
      ]
    },
    {
      "cell_type": "code",
      "metadata": {
        "id": "i_A8hW6-Cpv9",
        "colab_type": "code",
        "colab": {
          "base_uri": "https://localhost:8080/",
          "height": 101
        },
        "outputId": "4af5a782-591e-4b3e-8da0-e5cbf32470d4"
      },
      "source": [
        "np.ones([5,3])"
      ],
      "execution_count": null,
      "outputs": [
        {
          "output_type": "execute_result",
          "data": {
            "text/plain": [
              "array([[1., 1., 1.],\n",
              "       [1., 1., 1.],\n",
              "       [1., 1., 1.],\n",
              "       [1., 1., 1.],\n",
              "       [1., 1., 1.]])"
            ]
          },
          "metadata": {
            "tags": []
          },
          "execution_count": 55
        }
      ]
    },
    {
      "cell_type": "code",
      "metadata": {
        "id": "WicLZIPzCvZl",
        "colab_type": "code",
        "colab": {
          "base_uri": "https://localhost:8080/",
          "height": 50
        },
        "outputId": "dc05ef01-0f96-4d06-b938-79a9013f0b48"
      },
      "source": [
        "arr = [1,2,3,4,5]\n",
        "\n",
        "print('tile: {}'.format(np.tile(arr,5)))\n",
        "\n",
        "print('repeat: {}'.format(np.repeat(arr,2)))"
      ],
      "execution_count": null,
      "outputs": [
        {
          "output_type": "stream",
          "text": [
            "tile: [1 2 3 4 5 1 2 3 4 5 1 2 3 4 5 1 2 3 4 5 1 2 3 4 5]\n",
            "repeat: [1 1 2 2 3 3 4 4 5 5]\n"
          ],
          "name": "stdout"
        }
      ]
    },
    {
      "cell_type": "code",
      "metadata": {
        "id": "aamjX5ukDPLt",
        "colab_type": "code",
        "colab": {
          "base_uri": "https://localhost:8080/",
          "height": 773
        },
        "outputId": "07cae570-a48b-4bd3-c36b-27b396cb4b15"
      },
      "source": [
        "print(np.random.rand(10,30))\n",
        "print(np.random.randn(5,5))\n",
        "print(np.random.randint(0,50, size=[3,4]))\n",
        "print(np.random.random())\n",
        "print(np.random.random(size=[3,3]))\n",
        "print(np.random.choice(['a','b','c','d','e','f'], size = 20 ))\n",
        "print(np.random.choice(['a', 'e', 'i', 'o', 'u'], size=10, p=[0.3, .1, 0.1, 0.4, 0.1]))"
      ],
      "execution_count": null,
      "outputs": [
        {
          "output_type": "stream",
          "text": [
            "[[0.157 0.921 0.282 0.261 0.493 0.474 0.867 0.766 0.692 0.674 0.859 0.56\n",
            "  0.27  0.97  0.452 0.849 0.921 0.022 0.471 0.75  0.45  0.787 0.249 0.324\n",
            "  0.664 0.474 0.478 0.336 0.449 0.136]\n",
            " [0.331 0.974 0.732 0.735 0.49  0.534 0.089 0.366 0.826 0.98  0.046 0.298\n",
            "  0.998 0.11  0.508 0.777 0.061 0.881 0.173 0.143 0.068 0.876 0.74  0.341\n",
            "  0.895 0.992 0.402 0.399 0.35  0.074]\n",
            " [0.025 0.222 0.462 0.884 0.454 0.753 0.622 0.763 0.868 0.905 0.269 0.315\n",
            "  0.291 0.833 0.803 0.812 0.912 0.895 0.553 0.671 0.228 0.052 0.986 0.075\n",
            "  0.116 0.077 0.812 0.437 0.985 0.454]\n",
            " [0.838 0.661 0.126 0.529 0.972 0.567 0.518 0.085 0.257 0.265 0.582 0.111\n",
            "  0.97  0.677 0.627 0.891 0.301 0.777 0.736 0.108 0.974 0.253 0.326 0.967\n",
            "  0.387 0.041 0.304 0.933 0.387 0.453]\n",
            " [0.144 0.163 0.56  0.572 0.403 0.211 0.363 0.465 0.446 0.074 0.985 0.656\n",
            "  0.333 0.693 0.12  0.614 0.03  0.066 0.043 0.522 0.85  0.82  0.393 0.984\n",
            "  0.833 0.589 0.872 0.035 0.015 0.847]\n",
            " [0.388 0.089 0.093 0.754 0.941 0.81  0.84  0.764 0.775 0.203 0.335 0.542\n",
            "  0.189 0.115 0.121 0.265 0.487 0.231 0.922 0.512 0.497 0.776 0.064 0.415\n",
            "  0.149 0.109 0.114 0.627 0.477 0.964]\n",
            " [0.993 0.921 0.75  0.029 0.266 0.895 0.471 0.71  0.134 0.239 0.812 0.167\n",
            "  0.428 0.896 0.787 0.383 0.111 0.193 0.128 0.346 0.876 0.795 0.43  0.489\n",
            "  0.518 0.609 0.266 0.415 0.998 0.374]\n",
            " [0.757 0.014 0.094 0.773 0.323 0.913 0.963 0.542 0.149 0.256 0.944 0.338\n",
            "  0.217 0.178 0.041 0.505 0.123 0.087 0.585 0.021 0.737 0.355 0.508 0.693\n",
            "  0.534 0.969 0.485 0.078 0.513 0.502]\n",
            " [0.857 0.812 0.917 0.131 0.679 0.178 0.877 0.803 0.725 0.746 0.566 0.071\n",
            "  0.976 0.253 0.552 0.379 0.061 0.742 0.625 0.684 0.532 0.704 0.14  0.457\n",
            "  0.873 0.481 0.555 0.078 0.8   0.659]\n",
            " [0.879 0.21  0.335 0.25  0.916 0.93  0.625 0.276 0.7   0.856 0.307 0.393\n",
            "  0.702 0.116 0.072 0.767 0.169 0.776 0.278 0.127 0.681 0.129 0.243 0.101\n",
            "  0.141 0.498 0.831 0.377 0.082 0.43 ]]\n",
            "[[-2.525e-01  4.045e-01  1.055e+00 -1.641e+00  9.506e-04]\n",
            " [ 1.857e+00  1.316e+00 -9.850e-01  2.277e-01  5.557e-01]\n",
            " [-2.859e-01  7.021e-01 -1.157e+00  6.111e-01  8.451e-01]\n",
            " [ 8.447e-01  6.792e-01  8.227e-02  7.090e-01  6.534e-01]\n",
            " [ 2.184e-01  1.073e+00  4.580e-01 -6.774e-01 -9.425e-01]]\n",
            "[[28 19  1  4]\n",
            " [40 24 38 32]\n",
            " [23 12  0 42]]\n",
            "0.22615857206099144\n",
            "[[0.489 0.428 0.446]\n",
            " [0.88  0.002 0.878]\n",
            " [0.999 0.615 0.909]]\n",
            "['c' 'e' 'a' 'f' 'f' 'e' 'e' 'd' 'b' 'f' 'f' 'd' 'd' 'b' 'f' 'a' 'e' 'd'\n",
            " 'c' 'f']\n",
            "['a' 'a' 'e' 'u' 'a' 'o' 'a' 'a' 'o' 'i']\n"
          ],
          "name": "stdout"
        }
      ]
    },
    {
      "cell_type": "code",
      "metadata": {
        "id": "zdGiWowKFElJ",
        "colab_type": "code",
        "colab": {
          "base_uri": "https://localhost:8080/",
          "height": 67
        },
        "outputId": "461462a1-43a5-4d47-cdbb-c4d47300bc6d"
      },
      "source": [
        "r1 = np.random.RandomState(50)\n",
        "\n",
        "print(r1.rand(3,3))"
      ],
      "execution_count": null,
      "outputs": [
        {
          "output_type": "stream",
          "text": [
            "[[0.495 0.228 0.255]\n",
            " [0.396 0.377 0.997]\n",
            " [0.408 0.772 0.761]]\n"
          ],
          "name": "stdout"
        }
      ]
    },
    {
      "cell_type": "code",
      "metadata": {
        "id": "Pcc0Ol6mIILP",
        "colab_type": "code",
        "colab": {
          "base_uri": "https://localhost:8080/",
          "height": 67
        },
        "outputId": "e3ca62f1-b49c-4748-cb52-5af1ec318be9"
      },
      "source": [
        "np.random.seed(30)\n",
        "\n",
        "print(np.random.rand(3,3))"
      ],
      "execution_count": null,
      "outputs": [
        {
          "output_type": "stream",
          "text": [
            "[[0.644 0.381 0.663]\n",
            " [0.164 0.963 0.347]\n",
            " [0.992 0.235 0.586]]\n"
          ],
          "name": "stdout"
        }
      ]
    },
    {
      "cell_type": "code",
      "metadata": {
        "id": "O90WQJG3IaL8",
        "colab_type": "code",
        "colab": {
          "base_uri": "https://localhost:8080/",
          "height": 34
        },
        "outputId": "cac907ac-8df9-4c79-d17d-0faf5b31ffdb"
      },
      "source": [
        "np.random.seed(50)\n",
        "\n",
        "a = np.random.randint(0, 20, size = 14)\n",
        "print(a)"
      ],
      "execution_count": null,
      "outputs": [
        {
          "output_type": "stream",
          "text": [
            "[16  0 11 13  1  4  6  5  6 13  5  2  7 15]\n"
          ],
          "name": "stdout"
        }
      ]
    },
    {
      "cell_type": "code",
      "metadata": {
        "id": "kQR0G43uIncU",
        "colab_type": "code",
        "colab": {
          "base_uri": "https://localhost:8080/",
          "height": 50
        },
        "outputId": "1fb7b8a9-fac0-47e6-da33-f8ad6f3ca1ae"
      },
      "source": [
        "u,c = np.unique(a, return_counts=True)\n",
        "print(\"Unique terms : {}\".format(u))\n",
        "print(\"counts : {}\".format(c))"
      ],
      "execution_count": null,
      "outputs": [
        {
          "output_type": "stream",
          "text": [
            "Unique terms : [ 0  1  2  4  5  6  7 11 13 15 16]\n",
            "counts : [1 1 1 1 2 2 1 1 2 1 1]\n"
          ],
          "name": "stdout"
        }
      ]
    },
    {
      "cell_type": "code",
      "metadata": {
        "id": "w7ejZqquJBek",
        "colab_type": "code",
        "colab": {
          "base_uri": "https://localhost:8080/",
          "height": 50
        },
        "outputId": "7d97aaf1-f3ce-454c-ae1f-a37a3c3d5406"
      },
      "source": [
        "# Create an array\n",
        "import numpy as np\n",
        "arr = np.array([18,3, 27, 17, 10, 2, 5, 2])\n",
        "print(\"Array: \", arr)\n",
        "\n",
        "index = np.where(arr > 5)\n",
        "print(\"Positions where value > 5: \", index)"
      ],
      "execution_count": null,
      "outputs": [
        {
          "output_type": "stream",
          "text": [
            "Array:  [18  3 27 17 10  2  5  2]\n",
            "Positions where value > 5:  (array([0, 2, 3, 4]),)\n"
          ],
          "name": "stdout"
        }
      ]
    },
    {
      "cell_type": "code",
      "metadata": {
        "id": "fbcxZVHWJWw8",
        "colab_type": "code",
        "colab": {
          "base_uri": "https://localhost:8080/",
          "height": 34
        },
        "outputId": "b99ede0f-b524-4ea4-cf9c-dc0b9d415090"
      },
      "source": [
        "arr.take(index)"
      ],
      "execution_count": null,
      "outputs": [
        {
          "output_type": "execute_result",
          "data": {
            "text/plain": [
              "array([[18, 27, 17, 10]])"
            ]
          },
          "metadata": {
            "tags": []
          },
          "execution_count": 63
        }
      ]
    },
    {
      "cell_type": "code",
      "metadata": {
        "id": "swBlZ1NWJl1k",
        "colab_type": "code",
        "colab": {
          "base_uri": "https://localhost:8080/",
          "height": 34
        },
        "outputId": "fa38ff31-975e-4ebf-95e8-78dd867e684a"
      },
      "source": [
        "np.where(arr>14,'a','b')"
      ],
      "execution_count": null,
      "outputs": [
        {
          "output_type": "execute_result",
          "data": {
            "text/plain": [
              "array(['a', 'b', 'a', 'a', 'b', 'b', 'b', 'b'], dtype='<U1')"
            ]
          },
          "metadata": {
            "tags": []
          },
          "execution_count": 64
        }
      ]
    },
    {
      "cell_type": "code",
      "metadata": {
        "id": "KrpEraR5JwkE",
        "colab_type": "code",
        "colab": {
          "base_uri": "https://localhost:8080/",
          "height": 50
        },
        "outputId": "1c5fa8ba-200c-4e23-af5c-7084c1f62ec4"
      },
      "source": [
        "print(\"position of max value: {}\".format(np.argmax(arr)))\n",
        "\n",
        "print(\"position of min value: {}\".format(np.argmin(arr)))"
      ],
      "execution_count": null,
      "outputs": [
        {
          "output_type": "stream",
          "text": [
            "position of max value: 2\n",
            "position of min value: 5\n"
          ],
          "name": "stdout"
        }
      ]
    },
    {
      "cell_type": "code",
      "metadata": {
        "id": "kcw3kud-V4ri",
        "colab_type": "code",
        "colab": {
          "base_uri": "https://localhost:8080/",
          "height": 185
        },
        "outputId": "17cb9848-72df-482a-c34b-ca76febc6dc5"
      },
      "source": [
        "np.set_printoptions(suppress= True)\n",
        "\n",
        "path = 'https://gist.githubusercontent.com/curran/a08a1080b88344b0c8a7/raw/639388c2cbc2120a14dcf466e85730eb8be498bb/iris.csv'\n",
        "\n",
        "iris = np.genfromtxt(path, delimiter=',', skip_header=1,filling_values=10, dtype='float')\n",
        "iris[:10]"
      ],
      "execution_count": null,
      "outputs": [
        {
          "output_type": "execute_result",
          "data": {
            "text/plain": [
              "array([[ 5.1,  3.5,  1.4,  0.2, 10. ],\n",
              "       [ 4.9,  3. ,  1.4,  0.2, 10. ],\n",
              "       [ 4.7,  3.2,  1.3,  0.2, 10. ],\n",
              "       [ 4.6,  3.1,  1.5,  0.2, 10. ],\n",
              "       [ 5. ,  3.6,  1.4,  0.2, 10. ],\n",
              "       [ 5.4,  3.9,  1.7,  0.4, 10. ],\n",
              "       [ 4.6,  3.4,  1.4,  0.3, 10. ],\n",
              "       [ 5. ,  3.4,  1.5,  0.2, 10. ],\n",
              "       [ 4.4,  2.9,  1.4,  0.2, 10. ],\n",
              "       [ 4.9,  3.1,  1.5,  0.1, 10. ]])"
            ]
          },
          "metadata": {
            "tags": []
          },
          "execution_count": 76
        }
      ]
    },
    {
      "cell_type": "code",
      "metadata": {
        "id": "tpJfT7_3XJap",
        "colab_type": "code",
        "colab": {
          "base_uri": "https://localhost:8080/",
          "height": 222
        },
        "outputId": "a0b47038-6b0d-45c3-8300-8979b175fb83"
      },
      "source": [
        "iris2 = np.genfromtxt(path, delimiter=',', skip_header=1, dtype=None)\n",
        "iris2[:15] "
      ],
      "execution_count": null,
      "outputs": [
        {
          "output_type": "stream",
          "text": [
            "/usr/local/lib/python3.6/dist-packages/ipykernel_launcher.py:1: VisibleDeprecationWarning: Reading unicode strings without specifying the encoding argument is deprecated. Set the encoding, use None for the system default.\n",
            "  \"\"\"Entry point for launching an IPython kernel.\n"
          ],
          "name": "stderr"
        },
        {
          "output_type": "execute_result",
          "data": {
            "text/plain": [
              "array([(5.1, 3.5, 1.4, 0.2, b'setosa'), (4.9, 3. , 1.4, 0.2, b'setosa'),\n",
              "       (4.7, 3.2, 1.3, 0.2, b'setosa'), (4.6, 3.1, 1.5, 0.2, b'setosa'),\n",
              "       (5. , 3.6, 1.4, 0.2, b'setosa'), (5.4, 3.9, 1.7, 0.4, b'setosa'),\n",
              "       (4.6, 3.4, 1.4, 0.3, b'setosa'), (5. , 3.4, 1.5, 0.2, b'setosa'),\n",
              "       (4.4, 2.9, 1.4, 0.2, b'setosa'), (4.9, 3.1, 1.5, 0.1, b'setosa'),\n",
              "       (5.4, 3.7, 1.5, 0.2, b'setosa'), (4.8, 3.4, 1.6, 0.2, b'setosa'),\n",
              "       (4.8, 3. , 1.4, 0.1, b'setosa'), (4.3, 3. , 1.1, 0.1, b'setosa'),\n",
              "       (5.8, 4. , 1.2, 0.2, b'setosa')],\n",
              "      dtype=[('f0', '<f8'), ('f1', '<f8'), ('f2', '<f8'), ('f3', '<f8'), ('f4', 'S10')])"
            ]
          },
          "metadata": {
            "tags": []
          },
          "execution_count": 78
        }
      ]
    },
    {
      "cell_type": "code",
      "metadata": {
        "id": "5DJ651UsYrD5",
        "colab_type": "code",
        "colab": {}
      },
      "source": [
        "\n",
        "np.savetxt(\"npsavetest.csv\", data, delimiter=\",\")"
      ],
      "execution_count": null,
      "outputs": []
    },
    {
      "cell_type": "code",
      "metadata": {
        "id": "2sTQDqhVYyfG",
        "colab_type": "code",
        "colab": {
          "base_uri": "https://localhost:8080/",
          "height": 34
        },
        "outputId": "e94047d9-946d-4a81-f2e1-3885463be838"
      },
      "source": [
        "ans = np.array([1,2,3,4])\n",
        "ans.dtype"
      ],
      "execution_count": null,
      "outputs": [
        {
          "output_type": "execute_result",
          "data": {
            "text/plain": [
              "dtype('int64')"
            ]
          },
          "metadata": {
            "tags": []
          },
          "execution_count": 94
        }
      ]
    },
    {
      "cell_type": "code",
      "metadata": {
        "id": "gGIbLrxuZBnu",
        "colab_type": "code",
        "colab": {}
      },
      "source": [
        "np.save('ans.npy',ans)  "
      ],
      "execution_count": null,
      "outputs": []
    },
    {
      "cell_type": "code",
      "metadata": {
        "id": "XBg7V2YKaNi1",
        "colab_type": "code",
        "colab": {
          "base_uri": "https://localhost:8080/",
          "height": 34
        },
        "outputId": "8298f232-65be-4c6f-db28-ead1d2e3870a"
      },
      "source": [
        "a = np.load('ans.npy')\n",
        "print(a)"
      ],
      "execution_count": null,
      "outputs": [
        {
          "output_type": "stream",
          "text": [
            "[1 2 3 4]\n"
          ],
          "name": "stdout"
        }
      ]
    },
    {
      "cell_type": "code",
      "metadata": {
        "id": "hiJLftb0bItO",
        "colab_type": "code",
        "colab": {
          "base_uri": "https://localhost:8080/",
          "height": 118
        },
        "outputId": "d5fea31e-eb99-4423-b4ea-094ae60ab28c"
      },
      "source": [
        "z = np.zeros([3, 3])\n",
        "o = np.ones([3, 3])\n",
        "print(z)\n",
        "print(o)"
      ],
      "execution_count": null,
      "outputs": [
        {
          "output_type": "stream",
          "text": [
            "[[0. 0. 0.]\n",
            " [0. 0. 0.]\n",
            " [0. 0. 0.]]\n",
            "[[1. 1. 1.]\n",
            " [1. 1. 1.]\n",
            " [1. 1. 1.]]\n"
          ],
          "name": "stdout"
        }
      ]
    },
    {
      "cell_type": "code",
      "metadata": {
        "id": "2LgWJ-MbbPmd",
        "colab_type": "code",
        "colab": {
          "base_uri": "https://localhost:8080/",
          "height": 118
        },
        "outputId": "4df53a00-330a-424e-868a-aa9252a5ce86"
      },
      "source": [
        "np.concatenate([z,o], axis=0)  \n",
        "np.vstack([z,o])  \n",
        "np.r_[z,o] "
      ],
      "execution_count": null,
      "outputs": [
        {
          "output_type": "execute_result",
          "data": {
            "text/plain": [
              "array([[0., 0., 0.],\n",
              "       [0., 0., 0.],\n",
              "       [0., 0., 0.],\n",
              "       [1., 1., 1.],\n",
              "       [1., 1., 1.],\n",
              "       [1., 1., 1.]])"
            ]
          },
          "metadata": {
            "tags": []
          },
          "execution_count": 103
        }
      ]
    },
    {
      "cell_type": "code",
      "metadata": {
        "id": "QV9R9rkNbgVF",
        "colab_type": "code",
        "colab": {
          "base_uri": "https://localhost:8080/",
          "height": 67
        },
        "outputId": "860099d8-a687-4845-a0d1-e2c5773c68db"
      },
      "source": [
        "np.concatenate([z,o], axis=1)  \n",
        "np.hstack([z,o])  \n",
        "np.c_[z,o] "
      ],
      "execution_count": null,
      "outputs": [
        {
          "output_type": "execute_result",
          "data": {
            "text/plain": [
              "array([[0., 0., 0., 1., 1., 1.],\n",
              "       [0., 0., 0., 1., 1., 1.],\n",
              "       [0., 0., 0., 1., 1., 1.]])"
            ]
          },
          "metadata": {
            "tags": []
          },
          "execution_count": 106
        }
      ]
    },
    {
      "cell_type": "code",
      "metadata": {
        "id": "TPzZcyKibp2V",
        "colab_type": "code",
        "colab": {
          "base_uri": "https://localhost:8080/",
          "height": 34
        },
        "outputId": "ba87ab9d-f78d-4fa9-83c7-fd781918dfa2"
      },
      "source": [
        "np.r_[[10,21,32], 10, 20, [34,45,56]]"
      ],
      "execution_count": null,
      "outputs": [
        {
          "output_type": "execute_result",
          "data": {
            "text/plain": [
              "array([10, 21, 32, 10, 20, 34, 45, 56])"
            ]
          },
          "metadata": {
            "tags": []
          },
          "execution_count": 107
        }
      ]
    },
    {
      "cell_type": "code",
      "metadata": {
        "id": "pTWh5A4fb6WV",
        "colab_type": "code",
        "colab": {
          "base_uri": "https://localhost:8080/",
          "height": 101
        },
        "outputId": "0f6cde7f-ea3c-44b2-f7c3-ecc1d9f30747"
      },
      "source": [
        "np1 = np.random.randint(0,50, size=[5, 5])\n",
        "print(np1)"
      ],
      "execution_count": null,
      "outputs": [
        {
          "output_type": "stream",
          "text": [
            "[[ 4 14 35 28 27]\n",
            " [26 26  6 20 43]\n",
            " [31 49 21 42 41]\n",
            " [ 0  6 19  2 15]\n",
            " [30 41 35 26  2]]\n"
          ],
          "name": "stdout"
        }
      ]
    },
    {
      "cell_type": "code",
      "metadata": {
        "id": "e1-sHZE2cD7l",
        "colab_type": "code",
        "colab": {
          "base_uri": "https://localhost:8080/",
          "height": 101
        },
        "outputId": "640f9bb8-d168-4e9c-a5a6-a66b96f3f4cf"
      },
      "source": [
        "\n",
        "np.sort(np1, axis=0)"
      ],
      "execution_count": null,
      "outputs": [
        {
          "output_type": "execute_result",
          "data": {
            "text/plain": [
              "array([[ 0,  6,  6,  2,  2],\n",
              "       [ 4, 14, 19, 20, 15],\n",
              "       [26, 26, 21, 26, 27],\n",
              "       [30, 41, 35, 28, 41],\n",
              "       [31, 49, 35, 42, 43]])"
            ]
          },
          "metadata": {
            "tags": []
          },
          "execution_count": 111
        }
      ]
    },
    {
      "cell_type": "code",
      "metadata": {
        "id": "8jYaK3PqcdHF",
        "colab_type": "code",
        "colab": {
          "base_uri": "https://localhost:8080/",
          "height": 101
        },
        "outputId": "b0b86681-8891-4dad-8ecb-3d99e8f5d20d"
      },
      "source": [
        "np.sort(np1, axis=1)"
      ],
      "execution_count": null,
      "outputs": [
        {
          "output_type": "execute_result",
          "data": {
            "text/plain": [
              "array([[ 4, 14, 27, 28, 35],\n",
              "       [ 6, 20, 26, 26, 43],\n",
              "       [21, 31, 41, 42, 49],\n",
              "       [ 0,  2,  6, 15, 19],\n",
              "       [ 2, 26, 30, 35, 41]])"
            ]
          },
          "metadata": {
            "tags": []
          },
          "execution_count": 112
        }
      ]
    },
    {
      "cell_type": "code",
      "metadata": {
        "id": "ugTdtoPvchdc",
        "colab_type": "code",
        "colab": {
          "base_uri": "https://localhost:8080/",
          "height": 34
        },
        "outputId": "2c914610-a791-4351-cea7-0df957767b6d"
      },
      "source": [
        "x = np.array([10, 100, 5, 25, 18, 99])\n",
        "sort_index = np.argsort(x)\n",
        "print(sort_index)"
      ],
      "execution_count": null,
      "outputs": [
        {
          "output_type": "stream",
          "text": [
            "[2 0 4 3 5 1]\n"
          ],
          "name": "stdout"
        }
      ]
    },
    {
      "cell_type": "code",
      "metadata": {
        "id": "mvFcbn-Jc27f",
        "colab_type": "code",
        "colab": {
          "base_uri": "https://localhost:8080/",
          "height": 34
        },
        "outputId": "7c4fe813-15b8-4f92-b021-4b018b4c613c"
      },
      "source": [
        "x[sort_index]"
      ],
      "execution_count": null,
      "outputs": [
        {
          "output_type": "execute_result",
          "data": {
            "text/plain": [
              "array([  5,  10,  18,  25,  99, 100])"
            ]
          },
          "metadata": {
            "tags": []
          },
          "execution_count": 114
        }
      ]
    },
    {
      "cell_type": "code",
      "metadata": {
        "id": "4cf8Nazsc7Fd",
        "colab_type": "code",
        "colab": {
          "base_uri": "https://localhost:8080/",
          "height": 34
        },
        "outputId": "81cd3513-59d7-49c1-ea37-c25e25d9c46d"
      },
      "source": [
        "col = x[:,].argsort()\n",
        "\n",
        "x[col]"
      ],
      "execution_count": null,
      "outputs": [
        {
          "output_type": "execute_result",
          "data": {
            "text/plain": [
              "array([  5,  10,  18,  25,  99, 100])"
            ]
          },
          "metadata": {
            "tags": []
          },
          "execution_count": 119
        }
      ]
    },
    {
      "cell_type": "code",
      "metadata": {
        "id": "HQuCXnxFdPaV",
        "colab_type": "code",
        "colab": {
          "base_uri": "https://localhost:8080/",
          "height": 34
        },
        "outputId": "77f59ae8-fdaa-4cd5-8d2a-e58af082f152"
      },
      "source": [
        "x[col[::-1]]"
      ],
      "execution_count": null,
      "outputs": [
        {
          "output_type": "execute_result",
          "data": {
            "text/plain": [
              "array([100,  99,  25,  18,  10,   5])"
            ]
          },
          "metadata": {
            "tags": []
          },
          "execution_count": 120
        }
      ]
    },
    {
      "cell_type": "code",
      "metadata": {
        "id": "5K6EW_fkdk5E",
        "colab_type": "code",
        "colab": {
          "base_uri": "https://localhost:8080/",
          "height": 34
        },
        "outputId": "9428b014-bbee-4749-9cbc-c621cc605123"
      },
      "source": [
        "ind = np.lexsort((x[:, ], x[:, ])) \n",
        "x[ind]"
      ],
      "execution_count": null,
      "outputs": [
        {
          "output_type": "execute_result",
          "data": {
            "text/plain": [
              "array([  5,  10,  18,  25,  99, 100])"
            ]
          },
          "metadata": {
            "tags": []
          },
          "execution_count": 123
        }
      ]
    },
    {
      "cell_type": "code",
      "metadata": {
        "id": "9sSi02tnhfD7",
        "colab_type": "code",
        "colab": {
          "base_uri": "https://localhost:8080/",
          "height": 34
        },
        "outputId": "bdf82416-4289-4957-ffe1-d9663dc77e6e"
      },
      "source": [
        "dt = np.datetime64('2020-02-01 19:00:00')\n",
        "\n",
        "dt"
      ],
      "execution_count": null,
      "outputs": [
        {
          "output_type": "execute_result",
          "data": {
            "text/plain": [
              "numpy.datetime64('2020-02-01T19:00:00')"
            ]
          },
          "metadata": {
            "tags": []
          },
          "execution_count": 125
        }
      ]
    },
    {
      "cell_type": "code",
      "metadata": {
        "id": "YKZNMucehuoD",
        "colab_type": "code",
        "colab": {
          "base_uri": "https://localhost:8080/",
          "height": 34
        },
        "outputId": "6abdaf6e-1174-401d-e4ee-0defbe0bb9fe"
      },
      "source": [
        "dt1 = np.datetime64(dt,'D')\n",
        "dt1"
      ],
      "execution_count": null,
      "outputs": [
        {
          "output_type": "execute_result",
          "data": {
            "text/plain": [
              "numpy.datetime64('2020-02-01')"
            ]
          },
          "metadata": {
            "tags": []
          },
          "execution_count": 126
        }
      ]
    },
    {
      "cell_type": "code",
      "metadata": {
        "id": "UBWjLa-tiAwJ",
        "colab_type": "code",
        "colab": {
          "base_uri": "https://localhost:8080/",
          "height": 84
        },
        "outputId": "ef62b6c6-aa7d-4707-c4b6-911293024850"
      },
      "source": [
        "\n",
        "tm = np.timedelta64(100, 'm')  \n",
        "ts = np.timedelta64(20, 's')  \n",
        "tes = np.timedelta64(30, 'ns') \n",
        "\n",
        "print('Adding days: ', dt + 10)\n",
        "print('Adding minutes: ', dt + tm)\n",
        "print('Adding seconds: ', dt + ts)\n",
        "print('Adding nanoseconds: ', dt + tes)"
      ],
      "execution_count": null,
      "outputs": [
        {
          "output_type": "stream",
          "text": [
            "Adding days:  2020-02-01T19:00:10\n",
            "Adding minutes:  2020-02-01T20:40:00\n",
            "Adding seconds:  2020-02-01T19:00:20\n",
            "Adding nanoseconds:  2020-02-01T19:00:00.000000030\n"
          ],
          "name": "stdout"
        }
      ]
    },
    {
      "cell_type": "code",
      "metadata": {
        "id": "i6oSYrztiIKq",
        "colab_type": "code",
        "colab": {
          "base_uri": "https://localhost:8080/",
          "height": 34
        },
        "outputId": "5e08386f-1478-4f38-a9ab-011bfb10314f"
      },
      "source": [
        "np.datetime_as_string(dt)"
      ],
      "execution_count": null,
      "outputs": [
        {
          "output_type": "execute_result",
          "data": {
            "text/plain": [
              "'2020-02-01T19:00:00'"
            ]
          },
          "metadata": {
            "tags": []
          },
          "execution_count": 132
        }
      ]
    },
    {
      "cell_type": "code",
      "metadata": {
        "id": "_7GaIIp3ixcR",
        "colab_type": "code",
        "colab": {
          "base_uri": "https://localhost:8080/",
          "height": 185
        },
        "outputId": "ecef27f7-dd2f-4da1-ccd7-69278fda5339"
      },
      "source": [
        "dates = np.arange(np.datetime64('2020-02-01'), np.datetime64('2020-03-01'))\n",
        "print(dates)\n",
        "\n",
        "np.is_busday(dates)"
      ],
      "execution_count": null,
      "outputs": [
        {
          "output_type": "stream",
          "text": [
            "['2020-02-01' '2020-02-02' '2020-02-03' '2020-02-04' '2020-02-05'\n",
            " '2020-02-06' '2020-02-07' '2020-02-08' '2020-02-09' '2020-02-10'\n",
            " '2020-02-11' '2020-02-12' '2020-02-13' '2020-02-14' '2020-02-15'\n",
            " '2020-02-16' '2020-02-17' '2020-02-18' '2020-02-19' '2020-02-20'\n",
            " '2020-02-21' '2020-02-22' '2020-02-23' '2020-02-24' '2020-02-25'\n",
            " '2020-02-26' '2020-02-27' '2020-02-28' '2020-02-29']\n"
          ],
          "name": "stdout"
        },
        {
          "output_type": "execute_result",
          "data": {
            "text/plain": [
              "array([False, False,  True,  True,  True,  True,  True, False, False,\n",
              "        True,  True,  True,  True,  True, False, False,  True,  True,\n",
              "        True,  True,  True, False, False,  True,  True,  True,  True,\n",
              "        True, False])"
            ]
          },
          "metadata": {
            "tags": []
          },
          "execution_count": 136
        }
      ]
    },
    {
      "cell_type": "code",
      "metadata": {
        "id": "wZd1Hl8fi4Ax",
        "colab_type": "code",
        "colab": {
          "base_uri": "https://localhost:8080/",
          "height": 34
        },
        "outputId": "15a6940b-fded-4914-a560-ea8be3038607"
      },
      "source": [
        "import datetime\n",
        "dt = dt.tolist()\n",
        "dt"
      ],
      "execution_count": null,
      "outputs": [
        {
          "output_type": "execute_result",
          "data": {
            "text/plain": [
              "datetime.datetime(2020, 2, 1, 19, 0)"
            ]
          },
          "metadata": {
            "tags": []
          },
          "execution_count": 137
        }
      ]
    },
    {
      "cell_type": "code",
      "metadata": {
        "id": "2UZXBefbji6a",
        "colab_type": "code",
        "colab": {
          "base_uri": "https://localhost:8080/",
          "height": 84
        },
        "outputId": "4be42d08-0032-4ccc-c707-22fbe05e5ff6"
      },
      "source": [
        "print('Year: ', dt.year)  \n",
        "print('Day of month: ', dt.day)\n",
        "print('Month of year: ', dt.month)  \n",
        "print('Day of Week: ', dt.weekday())"
      ],
      "execution_count": null,
      "outputs": [
        {
          "output_type": "stream",
          "text": [
            "Year:  2020\n",
            "Day of month:  1\n",
            "Month of year:  2\n",
            "Day of Week:  5\n"
          ],
          "name": "stdout"
        }
      ]
    },
    {
      "cell_type": "code",
      "metadata": {
        "id": "Gx0cV1_zjpGa",
        "colab_type": "code",
        "colab": {
          "base_uri": "https://localhost:8080/",
          "height": 50
        },
        "outputId": "994fbfd7-1540-4a35-de63-5500751edcf6"
      },
      "source": [
        "def scalar(x):\n",
        "    if x % 2 == 1:\n",
        "        return x**2\n",
        "    else:\n",
        "        return x/2\n",
        "\n",
        "print('x = 10 returns ', scalar(100))\n",
        "print('x = 11 returns ', scalar(15))\n"
      ],
      "execution_count": null,
      "outputs": [
        {
          "output_type": "stream",
          "text": [
            "x = 10 returns  50.0\n",
            "x = 11 returns  225\n"
          ],
          "name": "stdout"
        }
      ]
    },
    {
      "cell_type": "code",
      "metadata": {
        "id": "l6nB66iVj7kj",
        "colab_type": "code",
        "colab": {
          "base_uri": "https://localhost:8080/",
          "height": 67
        },
        "outputId": "83158f38-07d1-42a0-dfe4-1abcb241bc6d"
      },
      "source": [
        "scala_r = np.vectorize(scalar, otypes=[float])\n",
        "\n",
        "print('x = [1,2,3] returns ', scala_r([1, 2, 3]))\n",
        "print('x = [[5, 6, 7], [1, 2, 3]] returns ', scala_r([[5, 6, 7], [1, 2, 3]]))"
      ],
      "execution_count": null,
      "outputs": [
        {
          "output_type": "stream",
          "text": [
            "x = [1,2,3] returns  [1. 1. 9.]\n",
            "x = [[5, 6, 7], [1, 2, 3]] returns  [[25.  3. 49.]\n",
            " [ 1.  1.  9.]]\n"
          ],
          "name": "stdout"
        }
      ]
    },
    {
      "cell_type": "code",
      "metadata": {
        "id": "yi3sw3-EkKAB",
        "colab_type": "code",
        "colab": {
          "base_uri": "https://localhost:8080/",
          "height": 67
        },
        "outputId": "13251f22-d391-4386-8712-e62ad0320aa8"
      },
      "source": [
        "np.random.seed(10)\n",
        "arr_x = np.random.randint(1,10,size=[3,3])\n",
        "arr_x"
      ],
      "execution_count": null,
      "outputs": [
        {
          "output_type": "execute_result",
          "data": {
            "text/plain": [
              "array([[5, 1, 2],\n",
              "       [1, 2, 9],\n",
              "       [1, 9, 7]])"
            ]
          },
          "metadata": {
            "tags": []
          },
          "execution_count": 142
        }
      ]
    },
    {
      "cell_type": "code",
      "metadata": {
        "id": "xXcND5D4kfmi",
        "colab_type": "code",
        "colab": {
          "base_uri": "https://localhost:8080/",
          "height": 50
        },
        "outputId": "ff52e61a-52f0-44d6-cfee-1cf9a60cb0bf"
      },
      "source": [
        "x1 = np.arange(20)\n",
        "print('Where should 10 be inserted?: ', np.searchsorted(x1, 10))\n",
        "print('Where should 15 be inserted (right)?: ', np.searchsorted(x1, 15, side='right'))"
      ],
      "execution_count": null,
      "outputs": [
        {
          "output_type": "stream",
          "text": [
            "Where should 10 be inserted?:  10\n",
            "Where should 15 be inserted (right)?:  16\n"
          ],
          "name": "stdout"
        }
      ]
    },
    {
      "cell_type": "code",
      "metadata": {
        "id": "PXX1zxiekvhp",
        "colab_type": "code",
        "colab": {
          "base_uri": "https://localhost:8080/",
          "height": 34
        },
        "outputId": "5df60414-5279-4e52-9acf-7d9f535f8646"
      },
      "source": [
        "a = np.arange(10)\n",
        "bins = np.array([1, 3, 6, 9])\n",
        "\n",
        "\n",
        "np.digitize(a, bins)"
      ],
      "execution_count": null,
      "outputs": [
        {
          "output_type": "execute_result",
          "data": {
            "text/plain": [
              "array([0, 1, 1, 2, 2, 2, 3, 3, 3, 4])"
            ]
          },
          "metadata": {
            "tags": []
          },
          "execution_count": 147
        }
      ]
    },
    {
      "cell_type": "code",
      "metadata": {
        "id": "x6qj5zT5lECN",
        "colab_type": "code",
        "colab": {
          "base_uri": "https://localhost:8080/",
          "height": 34
        },
        "outputId": "70714efd-6de0-4fb2-db60-a8492dfaa95c"
      },
      "source": [
        "np.clip(x, 3, 8)"
      ],
      "execution_count": null,
      "outputs": [
        {
          "output_type": "execute_result",
          "data": {
            "text/plain": [
              "array([8, 8, 5, 8, 8, 8])"
            ]
          },
          "metadata": {
            "tags": []
          },
          "execution_count": 148
        }
      ]
    },
    {
      "cell_type": "code",
      "metadata": {
        "id": "jG97w10BlM5e",
        "colab_type": "code",
        "colab": {
          "base_uri": "https://localhost:8080/",
          "height": 50
        },
        "outputId": "5f2d41cf-9131-4272-dea4-2b9d0d7c01bc"
      },
      "source": [
        "x = np.array([1,1,2,2,3,3,3,4,4,4,4]) \n",
        "np.bincount(x) \n",
        "\n",
        "counts, bins = np.histogram(x, [0, 1, 3, 5, 7])\n",
        "print('Counts: ', counts)\n",
        "print('Bins: ', bins)"
      ],
      "execution_count": null,
      "outputs": [
        {
          "output_type": "stream",
          "text": [
            "Counts:  [0 4 7 0]\n",
            "Bins:  [0 1 3 5 7]\n"
          ],
          "name": "stdout"
        }
      ]
    },
    {
      "cell_type": "code",
      "metadata": {
        "id": "Aw6DWxPblerw",
        "colab_type": "code",
        "colab": {}
      },
      "source": [
        ""
      ],
      "execution_count": null,
      "outputs": []
    }
  ]
}